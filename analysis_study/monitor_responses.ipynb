{
 "cells": [
  {
   "cell_type": "code",
   "execution_count": 2,
   "metadata": {},
   "outputs": [],
   "source": [
    "import firebase_admin\n",
    "from firebase_admin import credentials\n",
    "from firebase_admin import firestore\n",
    "import pickle\n",
    "import os\n",
    "import json\n",
    "import numpy as np\n"
   ]
  },
  {
   "cell_type": "code",
   "execution_count": 3,
   "metadata": {},
   "outputs": [],
   "source": [
    "\n",
    "cred = credentials.Certificate(\"../codeinterface-85b5e-firebase-adminsdk-11q7e-837ba92a03.json\")\n",
    "firebase_admin.initialize_app(cred)\n",
    "db = firestore.client()"
   ]
  },
  {
   "cell_type": "code",
   "execution_count": 4,
   "metadata": {},
   "outputs": [
    {
     "name": "stdout",
     "output_type": "stream",
     "text": [
      "Ming Chong Lim  mingchol@andrew.cmu.edu autocomplete_gpt35_0_4-4767663\n",
      "autocomplete_gpt35_0_4-4767663\n",
      "Joe Jeffery  joejeffrey381@gmail.com autocomplete_gpt35_0_5-7973403\n",
      "autocomplete_gpt35_0_5-7973403\n",
      "Shrikara Varna  svarna@andrew.cmu.edu autocomplete_gpt35_1_1-4315310\n",
      "autocomplete_gpt35_1_1-4315310\n",
      "Shrikara Varna  svarna@andrew.cmu.edu autocomplete_gpt35_1_1-5457944\n",
      "autocomplete_gpt35_1_1-5457944\n",
      "Nirajan Koirala  nkoirala@nd.edu autocomplete_gpt35_1_10-7542461\n",
      "autocomplete_gpt35_1_10-7542461\n",
      "Eric Schneider  franz.eric.schneider@gmail.com autocomplete_gpt35_1_2-7342708\n",
      "autocomplete_gpt35_1_2-7342708\n",
      "Hale Rasheed   halerasheed@gmail.com autocomplete_gpt35_1_9-7410549\n",
      "autocomplete_gpt35_1_9-7410549\n",
      "Alfredo Gomez  alfredogomez58@gmail.com autocomplete_gpt35_2_1-3570641\n",
      "autocomplete_gpt35_2_1-3570641\n",
      "Glenn Chentianye Xu  chentiax@andrew.cmu.edu autocomplete_gpt35_2_7-2692440\n",
      "autocomplete_gpt35_2_7-2692440\n",
      "Ming Chong Lim  mingchol@andrew.cmu.edu autocomplete_gpt35_3_0-4767663\n",
      "autocomplete_gpt35_3_0-4767663\n",
      "Shubing Yang  sueyoung@uw.edu autocomplete_gpt35_3_6-9892547\n",
      "autocomplete_gpt35_3_6-9892547\n",
      "Edward Jin  xdanieh1@gmail.com autocomplete_gpt35_4_0-1918441\n",
      "autocomplete_gpt35_4_0-1918441\n",
      "Ankit Shibusam  ashibusa@andrew.cmu.edu autocomplete_llama34_0_10-263435\n",
      "autocomplete_llama34_0_10-263435\n",
      "Dhruv Malik  maliknamya.20@dartmouth.edu autocomplete_llama34_0_2-9102663\n",
      "autocomplete_llama34_0_2-9102663\n",
      "test  test@gmail.com autocomplete_llama34_1_7-7166951\n",
      "autocomplete_llama34_1_7-7166951\n",
      "Alan Zhu  yixuanz2@andrew.cmu.edu autocomplete_llama34_1_8-5764720\n",
      "autocomplete_llama34_1_8-5764720\n",
      "Amanda Liu  lamanda@mit.edu autocomplete_llama34_1_9-185578\n",
      "autocomplete_llama34_1_9-185578\n",
      "Sofia Nelson  sn7617@outlook.com autocomplete_llama34_2_5-312886\n",
      "autocomplete_llama34_2_5-312886\n",
      "RAZIK SINGH GREWAL  razikgrewal@gmail.com autocomplete_llama34_4_6-8049061\n",
      "autocomplete_llama34_4_6-8049061\n",
      "Abdul hass  abdullhass2119@gmail.com autocomplete_llama7_0_7-8867477\n",
      "autocomplete_llama7_0_7-8867477\n",
      "Amir Bernard  bernardaaamir@gmail.com autocomplete_llama7_1_4-6115086\n",
      "autocomplete_llama7_1_4-6115086\n",
      "Samuel Tenka  samtenka@umich.edu autocomplete_llama7_1_7-9057190\n",
      "autocomplete_llama7_1_7-9057190\n",
      "Lily Tsai  tslilyai@mit.edu autocomplete_llama7_4_1-6139132\n",
      "autocomplete_llama7_4_1-6139132\n",
      "Tu Trinh  tutrinh@berkeley.edu chat_gpt35_0_3-3477274\n",
      "chat_gpt35_0_3-3477274\n",
      "Cynthia jule  cynthiajule886@gmail.com chat_gpt35_0_5-8597038\n",
      "chat_gpt35_0_5-8597038\n",
      "Vikramjeet Das  therealvikramjeet@gmail.com chat_gpt35_1_9-1775980\n",
      "chat_gpt35_1_9-1775980\n",
      "Nathan Gandawa  ngandawa@gmail.com chat_gpt35_2_0-3364490\n",
      "chat_gpt35_2_0-3364490\n",
      "Alvin Dominic   momahdominic1@gmail.com chat_gpt35_2_6-4543272\n",
      "chat_gpt35_2_6-4543272\n",
      "Alvin Dominic   momahdominic1@gmail.com chat_gpt35_2_6-7315808\n",
      "chat_gpt35_2_6-7315808\n",
      "Ved Dandekar  vdandeka@andrew.cmu.edu chat_gpt35_2_6-8421218\n",
      "chat_gpt35_2_6-8421218\n",
      "Shrey Gupta  shrey2809@gmail.com chat_llama34_0_9-9042837\n",
      "chat_llama34_0_9-9042837\n",
      "Yishen Chen  cyt046@gmail.com chat_llama34_1_4-8925494\n",
      "chat_llama34_1_4-8925494\n",
      "Wesley James  wesleyjammes1@gmail.com chat_llama34_2_10-8761750\n",
      "chat_llama34_2_10-8761750\n",
      "Kate Heathers   kateheathers9@gmail.com chat_llama34_3_6-5016809\n",
      "chat_llama34_3_6-5016809\n",
      "Julia Wang  julialujiawang@gmail.com chat_llama34_4_7-5075754\n",
      "chat_llama34_4_7-5075754\n",
      "denmark leek  denmarkleek@gmail.com chat_llama7_0_1-5418903\n",
      "chat_llama7_0_1-5418903\n",
      "Stephen Ogunjobi  stephenogunjobi@gmail.com chat_llama7_0_3-7389257\n",
      "chat_llama7_0_3-7389257\n",
      "Dennis Mark  dutsinm@gmail.com chat_llama7_0_4-6317906\n",
      "chat_llama7_0_4-6317906\n",
      "Alvin Dominic   momahdominic1@gmail.com chat_llama7_0_5-4543272\n",
      "chat_llama7_0_5-4543272\n",
      "Ananya Joshi  aajoshi@andrew.cmu.edu chat_llama7_1_0-3727187\n",
      "chat_llama7_1_0-3727187\n",
      "George Jeffrey  georgejeff201@gmail.com chat_llama7_1_10-371071\n",
      "chat_llama7_1_10-371071\n",
      "Satyapriya Krishna  spkrishnaofficial@gmail.com chat_llama7_1_5-6600304\n",
      "chat_llama7_1_5-6600304\n",
      "Samuel Adu-Berekorang  samueladu1970@gmail.com chat_llama7_2_0-9680599\n",
      "chat_llama7_2_0-9680599\n",
      "Alvin Dominic   momahdominic1@gmail.com chat_llama7_2_1-4543272\n",
      "chat_llama7_2_1-4543272\n",
      "Anshul Nasery  anasery@uw.edu chat_llama7_2_2-4548890\n",
      "chat_llama7_2_2-4548890\n",
      "test  test1@gmail.com chat_llama7_2_5-2294823\n",
      "chat_llama7_2_5-2294823\n",
      "test  test1@gmail.com chat_llama7_2_5-6950240\n",
      "chat_llama7_2_5-6950240\n",
      "Nathan Gandawa  nathangandawa@gmail.com chat_llama7_3_0-5876494\n",
      "chat_llama7_3_0-5876494\n",
      "Alvin Dominic   momahdominic1@gmail.com chat_llama7_4_10-4543272\n",
      "chat_llama7_4_10-4543272\n",
      "Alvin Dominic   momahdominic1@gmail.com nomodel_0_0-4543272\n",
      "nomodel_0_0-4543272\n",
      "Subhro Das  subhrodas36@gmail.com nomodel_0_4-1035891\n",
      "nomodel_0_4-1035891\n",
      "Stephen McKay  mckay.sjm98@gmail.com nomodel_0_5-4335761\n",
      "nomodel_0_5-4335761\n",
      "Harshal Chamdal  harshalc@mit.edu nomodel_1_2-421988\n",
      "nomodel_1_2-421988\n",
      "Qing Wang  wangqingemail@gmail.com nomodel_2_11-6493190\n",
      "nomodel_2_11-6493190\n",
      "Xavier Yandel   xavierryandel@gmail.com nomodel_3_0-1209789\n",
      "nomodel_3_0-1209789\n",
      "Alvin Dominic   momahdominic1@gmail.com nomodel_3_0-4543272\n",
      "nomodel_3_0-4543272\n",
      "Xavier Yandel   xavierryandel@gmail.com nomodel_3_0-985130\n",
      "nomodel_3_0-985130\n",
      "Michael Yang  michael@yangm.tech nomodel_4_1-7439581\n",
      "nomodel_4_1-7439581\n",
      "59\n",
      "dict_keys(['autocomplete_gpt35_0_4-4767663', 'autocomplete_gpt35_0_5-7973403', 'autocomplete_gpt35_1_1-4315310', 'autocomplete_gpt35_1_1-5457944', 'autocomplete_gpt35_1_10-7542461', 'autocomplete_gpt35_1_2-7342708', 'autocomplete_gpt35_1_9-7410549', 'autocomplete_gpt35_2_1-3570641', 'autocomplete_gpt35_2_7-2692440', 'autocomplete_gpt35_3_0-4767663', 'autocomplete_gpt35_3_6-9892547', 'autocomplete_gpt35_4_0-1918441', 'autocomplete_llama34_0_10-263435', 'autocomplete_llama34_0_2-9102663', 'autocomplete_llama34_1_7-7166951', 'autocomplete_llama34_1_8-5764720', 'autocomplete_llama34_1_9-185578', 'autocomplete_llama34_2_5-312886', 'autocomplete_llama34_4_6-8049061', 'autocomplete_llama7_0_7-8867477', 'autocomplete_llama7_1_4-6115086', 'autocomplete_llama7_1_7-9057190', 'autocomplete_llama7_4_1-6139132', 'chat_gpt35_0_3-3477274', 'chat_gpt35_0_5-8597038', 'chat_gpt35_1_9-1775980', 'chat_gpt35_2_0-3364490', 'chat_gpt35_2_6-4543272', 'chat_gpt35_2_6-7315808', 'chat_gpt35_2_6-8421218', 'chat_llama34_0_9-9042837', 'chat_llama34_1_4-8925494', 'chat_llama34_2_10-8761750', 'chat_llama34_3_6-5016809', 'chat_llama34_4_7-5075754', 'chat_llama7_0_1-5418903', 'chat_llama7_0_3-7389257', 'chat_llama7_0_4-6317906', 'chat_llama7_0_5-4543272', 'chat_llama7_1_0-3727187', 'chat_llama7_1_10-371071', 'chat_llama7_1_5-6600304', 'chat_llama7_2_0-9680599', 'chat_llama7_2_1-4543272', 'chat_llama7_2_2-4548890', 'chat_llama7_2_5-2294823', 'chat_llama7_2_5-6950240', 'chat_llama7_3_0-5876494', 'chat_llama7_4_10-4543272', 'nomodel_0_0-4543272', 'nomodel_0_4-1035891', 'nomodel_0_5-4335761', 'nomodel_1_2-421988', 'nomodel_2_11-6493190', 'nomodel_3_0-1209789', 'nomodel_3_0-4543272', 'nomodel_3_0-985130', 'nomodel_4_1-7439581', 'test'])\n"
     ]
    }
   ],
   "source": [
    "docs = db.collection('responses').get()\n",
    "# save docs in a pickle file called old_tasks.pkl\n",
    "responses = {}\n",
    "for doc in docs:\n",
    "    doc_dict = doc.to_dict()\n",
    "    doc_dict['id'] = doc.id \n",
    "    responses[doc.id] = doc_dict\n",
    "# for each task print the name and email\n",
    "for resp in responses:\n",
    "    if 'test' not in responses[resp]:\n",
    "        print(responses[resp]['name'] + \"  \" +  responses[resp]['email']  +  \" \" + resp)\n",
    "        print(responses[resp]['id'])\n",
    "        #print(responses[resp])\n",
    "    # key is the id of the document\n",
    "\n",
    "\n",
    "\n",
    "print(len(responses))\n",
    "print(responses.keys())"
   ]
  },
  {
   "cell_type": "code",
   "execution_count": 125,
   "metadata": {},
   "outputs": [],
   "source": [
    "today_date_string = str(np.datetime64('now'))\n",
    "\n",
    "with open('./saved_data/old_responses'+today_date_string+'.pkl', 'wb') as f:\n",
    "    pickle.dump(responses, f)"
   ]
  },
  {
   "cell_type": "code",
   "execution_count": 113,
   "metadata": {},
   "outputs": [
    {
     "name": "stdout",
     "output_type": "stream",
     "text": [
      "{'aiToolTypicalUsage': '2', 'task_id': 'chat_llama7_3_2', 'frustration': '6', 'performance': '6', 'howaiimproved': '', 'worker_id': 9699504, 'temporalDemand': '8', 'exp_condition': 'final_study', 'finalcomments': '', 'name': 'test', 'date_performed': 'Sat Jan 27 2024 00:47:36 GMT-0500 (Eastern Standard Time)', 'completed_task': 1, 'telemetry_data': [{'task_index': -1, 'task_id': 'chat_llama7_3_2', 'event_type': 'load_task', 'timestamp': 1706334459227}, {'task_index': -1, 'event_type': 'paste_into_editor', 'messageAIindex': 0, 'timestamp': 1706334464915, 'copied_text': 'autocomplete_llama7_4_0-7811116'}, {'task_index': -1, 'task_id': 'chat_llama7_3_2', 'event_type': 'code_reset', 'timestamp': 1706334470307, 'code': ''}, {'task_index': -1, 'event_type': 'save_code', 'timestamp': 1706334473480, 'code': 'def sum_product(numbers):'}, {'task_index': -1, 'message': 'code for sum and product of array python', 'event_type': 'user_message', 'timestamp': 1706334482335}, {'task_index': -1, 'event_type': 'assistant_response', 'chatHistory': [{'content': 'code for sum and product of array python', 'role': 'user'}, {'content': ' In Python, you can use the `sum()` and `product()` functions to calculate the sum and product of an array, respectively. For example:\\n```\\nsum_array = sum(array)\\nproduct_array = product(array)\\n```\\nHere, `sum_array` will contain the sum of all the elements in the array, and `product_array` will contain the product of all the elements in the array.\\n\\nAlternatively, you can use the `np.sum()` and `np.product()` functions from the NumPy library to calculate the sum and product of an array. For example:\\n```\\nimport numpy as np\\n\\nsum_array = np.sum(array)\\nproduct_array = np.product(array)\\n```\\nHere, `sum_array` will contain the sum of all the elements in the array, and `product_array` will contain the product of all the elements in the array.\\n\\nYou can also use the `reduce()` function to calculate the sum and product of an array. For example:\\n```\\nsum_array = reduce(lambda x, y: x + y, array)\\nproduct_array = reduce(lambda x, y: x * y, array)\\n```\\nHere, `sum_array` will contain the sum of all the elements in the array, and `product_array` will contain the product of all the elements in the array.\\n\\nI hope this helps! Let me know if you have any questions.', 'role': 'assistant'}], 'logprobs': {'max': 0, 'std': 0.7265952850938487, 'firstElement': -4.9114227e-05, 'min': -10.3984375, 'lastElement': -1.847744e-05, 'median': -0.000108778477, 'mean': -0.13188689771747136, 'middleElement': -0.000103354454}, 'response': ' In Python, you can use the `sum()` and `product()` functions to calculate the sum and product of an array, respectively. For example:\\n```\\nsum_array = sum(array)\\nproduct_array = product(array)\\n```\\nHere, `sum_array` will contain the sum of all the elements in the array, and `product_array` will contain the product of all the elements in the array.\\n\\nAlternatively, you can use the `np.sum()` and `np.product()` functions from the NumPy library to calculate the sum and product of an array. For example:\\n```\\nimport numpy as np\\n\\nsum_array = np.sum(array)\\nproduct_array = np.product(array)\\n```\\nHere, `sum_array` will contain the sum of all the elements in the array, and `product_array` will contain the product of all the elements in the array.\\n\\nYou can also use the `reduce()` function to calculate the sum and product of an array. For example:\\n```\\nsum_array = reduce(lambda x, y: x + y, array)\\nproduct_array = reduce(lambda x, y: x * y, array)\\n```\\nHere, `sum_array` will contain the sum of all the elements in the array, and `product_array` will contain the product of all the elements in the array.\\n\\nI hope this helps! Let me know if you have any questions.', 'timestamp': 1706334488473, 'messageAIindex': 0}, {'task_index': -1, 'event_type': 'save_code', 'timestamp': 1706334488480, 'code': 'def sum_product(numbers):\\n    '}, {'task_index': -1, 'event_type': 'copy_code', 'response': 'Copied!\\nimport numpy as np\\n\\nsum_array = np.sum(array)\\nproduct_array = np.product(array)\\n', 'timestamp': 1706334498316, 'messageAIindex': 1, 'copied_text': '\\nimport numpy as np\\n\\nsum_array = np.sum(array)\\nproduct_array = np.product(array)\\n'}, {'task_index': -1, 'event_type': 'paste_into_editor', 'messageAIindex': 1, 'timestamp': 1706334499093, 'copied_text': '\\r\\nimport numpy as np\\r\\n\\r\\nsum_array = np.sum(array)\\r\\nproduct_array = np.product(array)\\r\\n'}, {'task_index': -1, 'event_type': 'save_code', 'timestamp': 1706334503486, 'code': 'def sum_product(numbers):\\n        \\n    import numpy as np\\n    \\n    sum_array = np.sum(array)\\n    product_array = np.product(array)\\n'}, {'task_index': -1, 'event_type': 'paste_into_editor', 'messageAIindex': 1, 'timestamp': 1706334516866, 'copied_text': 'sum_array'}, {'task_index': -1, 'event_type': 'save_code', 'timestamp': 1706334518477, 'code': 'def sum_product(numbers):\\n        \\n    import numpy as np\\n    \\n    sum_array = np.sum(array)\\n    product_array = np.product(array)\\n    return sum_array, '}, {'task_index': -1, 'event_type': 'paste_into_editor', 'messageAIindex': 1, 'timestamp': 1706334519739, 'copied_text': 'product_array'}, {'task_index': -1, 'event_type': 'submit_code', 'log': 'Code is incorrect.\\nError:Traceback (most recent call last):\\n  File \"index.py\", line 13, in <module>\\n    assert sum_product([]) == (0, 1)\\n  File \"index.py\", line 9, in sum_product\\n    sum_array = np.sum(array)\\nNameError: name \\'array\\' is not defined\\n\\nnull\\nError: Command failed: timeout 7 python3 index.py\\nTraceback (most recent call last):\\n  File \"index.py\", line 13, in <module>\\n    assert sum_product([]) == (0, 1)\\n  File \"index.py\", line 9, in sum_product\\n    sum_array = np.sum(array)\\nNameError: name \\'array\\' is not defined\\n', 'completed_task': 0, 'timestamp': 1706334521444}, {'task_index': -1, 'event_type': 'paste_into_editor', 'messageAIindex': 1, 'timestamp': 1706334528516, 'copied_text': 'array'}, {'task_index': -1, 'event_type': 'submit_code', 'log': 'correct code', 'completed_task': 1, 'timestamp': 1706334530199}, {'task_index': 0, 'task_id': 'chat_llama7_3_2', 'event_type': 'load_task', 'timestamp': 1706334530202}, {'task_index': 0, 'event_type': 'save_code', 'timestamp': 1706334533476, 'code': 'def even_odd_count(num):'}], 'mentalDemand': '4', 'completed_task_time': 'Sat Jan 27 2024 00:49:16 GMT-0500 (Eastern Standard Time)', 'entered_exit_survey': 'Sat Jan 27 2024 00:48:57 GMT-0500 (Eastern Standard Time)', 'effort': '7', 'aihelpful': '3', 'email': 'test3@gmail.com', 'physicalDemand': '4', 'howaihelpful': '', 'id': 'chat_llama7_3_2-9699504'}\n"
     ]
    }
   ],
   "source": [
    "id = 'chat_llama7_3_2-9699504'\n",
    "print(responses[id])"
   ]
  },
  {
   "cell_type": "code",
   "execution_count": 114,
   "metadata": {},
   "outputs": [
    {
     "name": "stdout",
     "output_type": "stream",
     "text": [
      "[{'task_index': -1, 'task_id': 'chat_llama7_3_2', 'event_type': 'load_task', 'timestamp': 1706334459227}, {'task_index': -1, 'event_type': 'paste_into_editor', 'messageAIindex': 0, 'timestamp': 1706334464915, 'copied_text': 'autocomplete_llama7_4_0-7811116'}, {'task_index': -1, 'task_id': 'chat_llama7_3_2', 'event_type': 'code_reset', 'timestamp': 1706334470307, 'code': ''}, {'task_index': -1, 'event_type': 'save_code', 'timestamp': 1706334473480, 'code': 'def sum_product(numbers):'}, {'task_index': -1, 'message': 'code for sum and product of array python', 'event_type': 'user_message', 'timestamp': 1706334482335}, {'task_index': -1, 'event_type': 'assistant_response', 'chatHistory': [{'content': 'code for sum and product of array python', 'role': 'user'}, {'content': ' In Python, you can use the `sum()` and `product()` functions to calculate the sum and product of an array, respectively. For example:\\n```\\nsum_array = sum(array)\\nproduct_array = product(array)\\n```\\nHere, `sum_array` will contain the sum of all the elements in the array, and `product_array` will contain the product of all the elements in the array.\\n\\nAlternatively, you can use the `np.sum()` and `np.product()` functions from the NumPy library to calculate the sum and product of an array. For example:\\n```\\nimport numpy as np\\n\\nsum_array = np.sum(array)\\nproduct_array = np.product(array)\\n```\\nHere, `sum_array` will contain the sum of all the elements in the array, and `product_array` will contain the product of all the elements in the array.\\n\\nYou can also use the `reduce()` function to calculate the sum and product of an array. For example:\\n```\\nsum_array = reduce(lambda x, y: x + y, array)\\nproduct_array = reduce(lambda x, y: x * y, array)\\n```\\nHere, `sum_array` will contain the sum of all the elements in the array, and `product_array` will contain the product of all the elements in the array.\\n\\nI hope this helps! Let me know if you have any questions.', 'role': 'assistant'}], 'logprobs': {'max': 0, 'std': 0.7265952850938487, 'firstElement': -4.9114227e-05, 'min': -10.3984375, 'lastElement': -1.847744e-05, 'median': -0.000108778477, 'mean': -0.13188689771747136, 'middleElement': -0.000103354454}, 'response': ' In Python, you can use the `sum()` and `product()` functions to calculate the sum and product of an array, respectively. For example:\\n```\\nsum_array = sum(array)\\nproduct_array = product(array)\\n```\\nHere, `sum_array` will contain the sum of all the elements in the array, and `product_array` will contain the product of all the elements in the array.\\n\\nAlternatively, you can use the `np.sum()` and `np.product()` functions from the NumPy library to calculate the sum and product of an array. For example:\\n```\\nimport numpy as np\\n\\nsum_array = np.sum(array)\\nproduct_array = np.product(array)\\n```\\nHere, `sum_array` will contain the sum of all the elements in the array, and `product_array` will contain the product of all the elements in the array.\\n\\nYou can also use the `reduce()` function to calculate the sum and product of an array. For example:\\n```\\nsum_array = reduce(lambda x, y: x + y, array)\\nproduct_array = reduce(lambda x, y: x * y, array)\\n```\\nHere, `sum_array` will contain the sum of all the elements in the array, and `product_array` will contain the product of all the elements in the array.\\n\\nI hope this helps! Let me know if you have any questions.', 'timestamp': 1706334488473, 'messageAIindex': 0}, {'task_index': -1, 'event_type': 'save_code', 'timestamp': 1706334488480, 'code': 'def sum_product(numbers):\\n    '}, {'task_index': -1, 'event_type': 'copy_code', 'response': 'Copied!\\nimport numpy as np\\n\\nsum_array = np.sum(array)\\nproduct_array = np.product(array)\\n', 'timestamp': 1706334498316, 'messageAIindex': 1, 'copied_text': '\\nimport numpy as np\\n\\nsum_array = np.sum(array)\\nproduct_array = np.product(array)\\n'}, {'task_index': -1, 'event_type': 'paste_into_editor', 'messageAIindex': 1, 'timestamp': 1706334499093, 'copied_text': '\\r\\nimport numpy as np\\r\\n\\r\\nsum_array = np.sum(array)\\r\\nproduct_array = np.product(array)\\r\\n'}, {'task_index': -1, 'event_type': 'save_code', 'timestamp': 1706334503486, 'code': 'def sum_product(numbers):\\n        \\n    import numpy as np\\n    \\n    sum_array = np.sum(array)\\n    product_array = np.product(array)\\n'}, {'task_index': -1, 'event_type': 'paste_into_editor', 'messageAIindex': 1, 'timestamp': 1706334516866, 'copied_text': 'sum_array'}, {'task_index': -1, 'event_type': 'save_code', 'timestamp': 1706334518477, 'code': 'def sum_product(numbers):\\n        \\n    import numpy as np\\n    \\n    sum_array = np.sum(array)\\n    product_array = np.product(array)\\n    return sum_array, '}, {'task_index': -1, 'event_type': 'paste_into_editor', 'messageAIindex': 1, 'timestamp': 1706334519739, 'copied_text': 'product_array'}, {'task_index': -1, 'event_type': 'submit_code', 'log': 'Code is incorrect.\\nError:Traceback (most recent call last):\\n  File \"index.py\", line 13, in <module>\\n    assert sum_product([]) == (0, 1)\\n  File \"index.py\", line 9, in sum_product\\n    sum_array = np.sum(array)\\nNameError: name \\'array\\' is not defined\\n\\nnull\\nError: Command failed: timeout 7 python3 index.py\\nTraceback (most recent call last):\\n  File \"index.py\", line 13, in <module>\\n    assert sum_product([]) == (0, 1)\\n  File \"index.py\", line 9, in sum_product\\n    sum_array = np.sum(array)\\nNameError: name \\'array\\' is not defined\\n', 'completed_task': 0, 'timestamp': 1706334521444}, {'task_index': -1, 'event_type': 'paste_into_editor', 'messageAIindex': 1, 'timestamp': 1706334528516, 'copied_text': 'array'}, {'task_index': -1, 'event_type': 'submit_code', 'log': 'correct code', 'completed_task': 1, 'timestamp': 1706334530199}, {'task_index': 0, 'task_id': 'chat_llama7_3_2', 'event_type': 'load_task', 'timestamp': 1706334530202}, {'task_index': 0, 'event_type': 'save_code', 'timestamp': 1706334533476, 'code': 'def even_odd_count(num):'}]\n"
     ]
    }
   ],
   "source": [
    "print(responses[id]['telemetry_data'])"
   ]
  },
  {
   "cell_type": "code",
   "execution_count": 108,
   "metadata": {},
   "outputs": [
    {
     "name": "stdout",
     "output_type": "stream",
     "text": [
      "['load_task', 'before_shown', 'request_suggestion', 'suggestion_shown', 'save_code', 'reject', 'accept', 'submit_code']\n"
     ]
    }
   ],
   "source": [
    "# get all different event types\n",
    "event_types = []\n",
    "telemetry = responses[id]['telemetry_data']\n",
    "for i in telemetry:\n",
    "    if i['event_type'] not in event_types:\n",
    "        event_types.append(i['event_type'])\n",
    "print(event_types)"
   ]
  },
  {
   "cell_type": "code",
   "execution_count": null,
   "metadata": {},
   "outputs": [],
   "source": [
    "responses['pilot_gpt35chat3-7227967']['telemetry_data']"
   ]
  },
  {
   "cell_type": "code",
   "execution_count": null,
   "metadata": {},
   "outputs": [],
   "source": [
    "id = \"pilot_gpt35chat3-7227967\"\n",
    "telemetry = responses[id]['telemetry_data']\n",
    "responses[id]"
   ]
  },
  {
   "cell_type": "code",
   "execution_count": null,
   "metadata": {},
   "outputs": [],
   "source": [
    "responses[id]"
   ]
  },
  {
   "cell_type": "code",
   "execution_count": 24,
   "metadata": {},
   "outputs": [
    {
     "ename": "NameError",
     "evalue": "name 'telemetry' is not defined",
     "output_type": "error",
     "traceback": [
      "\u001b[0;31m---------------------------------------------------------------------------\u001b[0m",
      "\u001b[0;31mNameError\u001b[0m                                 Traceback (most recent call last)",
      "Input \u001b[0;32mIn [24]\u001b[0m, in \u001b[0;36m<cell line: 3>\u001b[0;34m()\u001b[0m\n\u001b[1;32m      1\u001b[0m \u001b[38;5;66;03m# count how many event_type \"load_task\"\u001b[39;00m\n\u001b[1;32m      2\u001b[0m count \u001b[38;5;241m=\u001b[39m \u001b[38;5;241m0\u001b[39m\n\u001b[0;32m----> 3\u001b[0m \u001b[38;5;28;01mfor\u001b[39;00m i \u001b[38;5;129;01min\u001b[39;00m \u001b[43mtelemetry\u001b[49m:\n\u001b[1;32m      4\u001b[0m     \u001b[38;5;28;01mif\u001b[39;00m i[\u001b[38;5;124m'\u001b[39m\u001b[38;5;124mevent_type\u001b[39m\u001b[38;5;124m'\u001b[39m] \u001b[38;5;241m==\u001b[39m \u001b[38;5;124m'\u001b[39m\u001b[38;5;124mload_task\u001b[39m\u001b[38;5;124m'\u001b[39m:\n\u001b[1;32m      5\u001b[0m         \u001b[38;5;28mprint\u001b[39m(i)\n",
      "\u001b[0;31mNameError\u001b[0m: name 'telemetry' is not defined"
     ]
    }
   ],
   "source": [
    "# count how many event_type \"load_task\"\n",
    "count = 0\n",
    "for i in telemetry:\n",
    "    if i['event_type'] == 'load_task':\n",
    "        print(i)\n",
    "        count += 1\n",
    "print(count)\n",
    "# count how many event_type \"load_task\"\n",
    "count = 0\n",
    "for i in telemetry:\n",
    "    if i['event_type'] == 'submit_code':\n",
    "        print(i)\n",
    "        count += 1\n",
    "print(count)"
   ]
  },
  {
   "cell_type": "code",
   "execution_count": null,
   "metadata": {},
   "outputs": [],
   "source": [
    "# get all different event types\n",
    "event_types = []\n",
    "for i in telemetry:\n",
    "    if i['event_type'] not in event_types:\n",
    "        event_types.append(i['event_type'])\n",
    "print(event_types)"
   ]
  },
  {
   "cell_type": "code",
   "execution_count": null,
   "metadata": {},
   "outputs": [],
   "source": [
    "i = 0\n",
    "for event in telemetry:\n",
    "    if event['event_type'] == 'request_suggestion':\n",
    "        print(event)\n",
    "        print(i)\n",
    "        print(telemetry[i:i+10])\n",
    "    i = i + 1"
   ]
  },
  {
   "cell_type": "code",
   "execution_count": null,
   "metadata": {},
   "outputs": [],
   "source": [
    "# count how many event_type \"suggestion_shown\"\n",
    "count = 0\n",
    "count_accepted = 0\n",
    "\n",
    "for i in telemetry:\n",
    "    if i['event_type'] == 'suggestion_shown':\n",
    "        count += 1\n",
    "print(\"##############\")\n",
    "for i in telemetry:\n",
    "    if i['event_type'] == 'accept':\n",
    "        count_accepted += 1\n",
    "\n",
    "count_req = 0\n",
    "\n",
    "for i in telemetry:\n",
    "    if i['event_type'] == 'request_suggestion':\n",
    "        count_req += 1\n",
    "\n",
    "print(count)\n",
    "print(count_accepted/ count)\n",
    "print(count_accepted)\n",
    "print(count_req)"
   ]
  }
 ],
 "metadata": {
  "kernelspec": {
   "display_name": "hussein2",
   "language": "python",
   "name": "python3"
  },
  "language_info": {
   "codemirror_mode": {
    "name": "ipython",
    "version": 3
   },
   "file_extension": ".py",
   "mimetype": "text/x-python",
   "name": "python",
   "nbconvert_exporter": "python",
   "pygments_lexer": "ipython3",
   "version": "3.9.13"
  }
 },
 "nbformat": 4,
 "nbformat_minor": 2
}
