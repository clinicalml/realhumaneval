{
 "cells": [
  {
   "cell_type": "code",
   "execution_count": null,
   "metadata": {},
   "outputs": [],
   "source": [
    "import firebase_admin\n",
    "from firebase_admin import credentials\n",
    "from firebase_admin import firestore\n",
    "import pickle\n",
    "import os\n",
    "import json\n",
    "import numpy as np\n"
   ]
  },
  {
   "cell_type": "code",
   "execution_count": null,
   "metadata": {},
   "outputs": [],
   "source": [
    "\n",
    "cred = credentials.Certificate(\"../codeinterface-85b5e-firebase-adminsdk-11q7e-837ba92a03.json\")\n",
    "firebase_admin.initialize_app(cred)\n",
    "db = firestore.client()"
   ]
  },
  {
   "cell_type": "code",
   "execution_count": null,
   "metadata": {},
   "outputs": [],
   "source": [
    "responses[0]"
   ]
  },
  {
   "cell_type": "code",
   "execution_count": 123,
   "metadata": {},
   "outputs": [
    {
     "name": "stdout",
     "output_type": "stream",
     "text": [
      "test31  test6@gmail.com autocomplete_gpt35_1_9-2605660\n",
      "test  test5@gmail.com autocomplete_gpt35_3_2-2039562\n",
      "test1231  tes66126@gmail.com autocomplete_gpt35_3_4-4055597\n",
      "test1231  tes161236@gmail.com autocomplete_gpt35_3_5-4782550\n",
      "test12313  tes161236@gmail.com autocomplete_gpt35_3_5-6468032\n",
      "test1231  tes666@gmail.com autocomplete_llama34_2_4-4728774\n",
      "test414  test231@gmail.com autocomplete_llama34_3_9-5205399\n",
      "test1231  tes6626@gmail.com autocomplete_llama34_4_8-2122029\n",
      "test414  test2321@gmail.com autocomplete_llama7_2_1-5159299\n",
      "test2  test2@gmail.com autocomplete_llama7_4_0-7811116\n",
      "test  test2231@gmail.com chat_gpt35_0_8-9785899\n",
      "test12313  tes12611236@gmail.com chat_llama34_0_7-541710\n",
      "tes12611236@gmail.com  tes12611236@gmail.com chat_llama34_0_7-566866\n",
      "test  test3@gmail.com chat_llama7_3_2-9699504\n",
      "test1  test1@gmail.com nomodel_0_0-7343736\n",
      "test12313  tes1611236@gmail.com nomodel_0_6-6346374\n",
      "test  test13@gmail.com nomodel_1_4-795168\n",
      "test  test4@gmail.com nomodel_2_7-7549270\n",
      "test1231  tes661236@gmail.com nomodel_4_6-9515141\n",
      "20\n",
      "dict_keys(['autocomplete_gpt35_1_9-2605660', 'autocomplete_gpt35_3_2-2039562', 'autocomplete_gpt35_3_4-4055597', 'autocomplete_gpt35_3_5-4782550', 'autocomplete_gpt35_3_5-6468032', 'autocomplete_llama34_2_4-4728774', 'autocomplete_llama34_3_9-5205399', 'autocomplete_llama34_4_8-2122029', 'autocomplete_llama7_2_1-5159299', 'autocomplete_llama7_4_0-7811116', 'chat_gpt35_0_8-9785899', 'chat_llama34_0_7-541710', 'chat_llama34_0_7-566866', 'chat_llama7_3_2-9699504', 'nomodel_0_0-7343736', 'nomodel_0_6-6346374', 'nomodel_1_4-795168', 'nomodel_2_7-7549270', 'nomodel_4_6-9515141', 'test'])\n"
     ]
    }
   ],
   "source": [
    "docs = db.collection('responses').get()\n",
    "# save docs in a pickle file called old_tasks.pkl\n",
    "responses = {}\n",
    "for doc in docs:\n",
    "    doc_dict = doc.to_dict()\n",
    "    doc_dict['id'] = doc.id \n",
    "    responses[doc.id] = doc_dict\n",
    "# for each task print the name and email\n",
    "for resp in responses:\n",
    "    if 'test' not in responses[resp]:\n",
    "        print(responses[resp]['name'] + \"  \" +  responses[resp]['email']  +  \" \" + resp)\n",
    "    # key is the id of the document\n",
    "\n",
    "\n",
    "\n",
    "print(len(responses))\n",
    "print(responses.keys())"
   ]
  },
  {
   "cell_type": "code",
   "execution_count": 125,
   "metadata": {},
   "outputs": [],
   "source": [
    "today_date_string = str(np.datetime64('now'))\n",
    "\n",
    "with open('./saved_data/old_responses'+today_date_string+'.pkl', 'wb') as f:\n",
    "    pickle.dump(responses, f)"
   ]
  },
  {
   "cell_type": "code",
   "execution_count": 113,
   "metadata": {},
   "outputs": [
    {
     "name": "stdout",
     "output_type": "stream",
     "text": [
      "{'aiToolTypicalUsage': '2', 'task_id': 'chat_llama7_3_2', 'frustration': '6', 'performance': '6', 'howaiimproved': '', 'worker_id': 9699504, 'temporalDemand': '8', 'exp_condition': 'final_study', 'finalcomments': '', 'name': 'test', 'date_performed': 'Sat Jan 27 2024 00:47:36 GMT-0500 (Eastern Standard Time)', 'completed_task': 1, 'telemetry_data': [{'task_index': -1, 'task_id': 'chat_llama7_3_2', 'event_type': 'load_task', 'timestamp': 1706334459227}, {'task_index': -1, 'event_type': 'paste_into_editor', 'messageAIindex': 0, 'timestamp': 1706334464915, 'copied_text': 'autocomplete_llama7_4_0-7811116'}, {'task_index': -1, 'task_id': 'chat_llama7_3_2', 'event_type': 'code_reset', 'timestamp': 1706334470307, 'code': ''}, {'task_index': -1, 'event_type': 'save_code', 'timestamp': 1706334473480, 'code': 'def sum_product(numbers):'}, {'task_index': -1, 'message': 'code for sum and product of array python', 'event_type': 'user_message', 'timestamp': 1706334482335}, {'task_index': -1, 'event_type': 'assistant_response', 'chatHistory': [{'content': 'code for sum and product of array python', 'role': 'user'}, {'content': ' In Python, you can use the `sum()` and `product()` functions to calculate the sum and product of an array, respectively. For example:\\n```\\nsum_array = sum(array)\\nproduct_array = product(array)\\n```\\nHere, `sum_array` will contain the sum of all the elements in the array, and `product_array` will contain the product of all the elements in the array.\\n\\nAlternatively, you can use the `np.sum()` and `np.product()` functions from the NumPy library to calculate the sum and product of an array. For example:\\n```\\nimport numpy as np\\n\\nsum_array = np.sum(array)\\nproduct_array = np.product(array)\\n```\\nHere, `sum_array` will contain the sum of all the elements in the array, and `product_array` will contain the product of all the elements in the array.\\n\\nYou can also use the `reduce()` function to calculate the sum and product of an array. For example:\\n```\\nsum_array = reduce(lambda x, y: x + y, array)\\nproduct_array = reduce(lambda x, y: x * y, array)\\n```\\nHere, `sum_array` will contain the sum of all the elements in the array, and `product_array` will contain the product of all the elements in the array.\\n\\nI hope this helps! Let me know if you have any questions.', 'role': 'assistant'}], 'logprobs': {'max': 0, 'std': 0.7265952850938487, 'firstElement': -4.9114227e-05, 'min': -10.3984375, 'lastElement': -1.847744e-05, 'median': -0.000108778477, 'mean': -0.13188689771747136, 'middleElement': -0.000103354454}, 'response': ' In Python, you can use the `sum()` and `product()` functions to calculate the sum and product of an array, respectively. For example:\\n```\\nsum_array = sum(array)\\nproduct_array = product(array)\\n```\\nHere, `sum_array` will contain the sum of all the elements in the array, and `product_array` will contain the product of all the elements in the array.\\n\\nAlternatively, you can use the `np.sum()` and `np.product()` functions from the NumPy library to calculate the sum and product of an array. For example:\\n```\\nimport numpy as np\\n\\nsum_array = np.sum(array)\\nproduct_array = np.product(array)\\n```\\nHere, `sum_array` will contain the sum of all the elements in the array, and `product_array` will contain the product of all the elements in the array.\\n\\nYou can also use the `reduce()` function to calculate the sum and product of an array. For example:\\n```\\nsum_array = reduce(lambda x, y: x + y, array)\\nproduct_array = reduce(lambda x, y: x * y, array)\\n```\\nHere, `sum_array` will contain the sum of all the elements in the array, and `product_array` will contain the product of all the elements in the array.\\n\\nI hope this helps! Let me know if you have any questions.', 'timestamp': 1706334488473, 'messageAIindex': 0}, {'task_index': -1, 'event_type': 'save_code', 'timestamp': 1706334488480, 'code': 'def sum_product(numbers):\\n    '}, {'task_index': -1, 'event_type': 'copy_code', 'response': 'Copied!\\nimport numpy as np\\n\\nsum_array = np.sum(array)\\nproduct_array = np.product(array)\\n', 'timestamp': 1706334498316, 'messageAIindex': 1, 'copied_text': '\\nimport numpy as np\\n\\nsum_array = np.sum(array)\\nproduct_array = np.product(array)\\n'}, {'task_index': -1, 'event_type': 'paste_into_editor', 'messageAIindex': 1, 'timestamp': 1706334499093, 'copied_text': '\\r\\nimport numpy as np\\r\\n\\r\\nsum_array = np.sum(array)\\r\\nproduct_array = np.product(array)\\r\\n'}, {'task_index': -1, 'event_type': 'save_code', 'timestamp': 1706334503486, 'code': 'def sum_product(numbers):\\n        \\n    import numpy as np\\n    \\n    sum_array = np.sum(array)\\n    product_array = np.product(array)\\n'}, {'task_index': -1, 'event_type': 'paste_into_editor', 'messageAIindex': 1, 'timestamp': 1706334516866, 'copied_text': 'sum_array'}, {'task_index': -1, 'event_type': 'save_code', 'timestamp': 1706334518477, 'code': 'def sum_product(numbers):\\n        \\n    import numpy as np\\n    \\n    sum_array = np.sum(array)\\n    product_array = np.product(array)\\n    return sum_array, '}, {'task_index': -1, 'event_type': 'paste_into_editor', 'messageAIindex': 1, 'timestamp': 1706334519739, 'copied_text': 'product_array'}, {'task_index': -1, 'event_type': 'submit_code', 'log': 'Code is incorrect.\\nError:Traceback (most recent call last):\\n  File \"index.py\", line 13, in <module>\\n    assert sum_product([]) == (0, 1)\\n  File \"index.py\", line 9, in sum_product\\n    sum_array = np.sum(array)\\nNameError: name \\'array\\' is not defined\\n\\nnull\\nError: Command failed: timeout 7 python3 index.py\\nTraceback (most recent call last):\\n  File \"index.py\", line 13, in <module>\\n    assert sum_product([]) == (0, 1)\\n  File \"index.py\", line 9, in sum_product\\n    sum_array = np.sum(array)\\nNameError: name \\'array\\' is not defined\\n', 'completed_task': 0, 'timestamp': 1706334521444}, {'task_index': -1, 'event_type': 'paste_into_editor', 'messageAIindex': 1, 'timestamp': 1706334528516, 'copied_text': 'array'}, {'task_index': -1, 'event_type': 'submit_code', 'log': 'correct code', 'completed_task': 1, 'timestamp': 1706334530199}, {'task_index': 0, 'task_id': 'chat_llama7_3_2', 'event_type': 'load_task', 'timestamp': 1706334530202}, {'task_index': 0, 'event_type': 'save_code', 'timestamp': 1706334533476, 'code': 'def even_odd_count(num):'}], 'mentalDemand': '4', 'completed_task_time': 'Sat Jan 27 2024 00:49:16 GMT-0500 (Eastern Standard Time)', 'entered_exit_survey': 'Sat Jan 27 2024 00:48:57 GMT-0500 (Eastern Standard Time)', 'effort': '7', 'aihelpful': '3', 'email': 'test3@gmail.com', 'physicalDemand': '4', 'howaihelpful': '', 'id': 'chat_llama7_3_2-9699504'}\n"
     ]
    }
   ],
   "source": [
    "id = 'chat_llama7_3_2-9699504'\n",
    "print(responses[id])"
   ]
  },
  {
   "cell_type": "code",
   "execution_count": 114,
   "metadata": {},
   "outputs": [
    {
     "name": "stdout",
     "output_type": "stream",
     "text": [
      "[{'task_index': -1, 'task_id': 'chat_llama7_3_2', 'event_type': 'load_task', 'timestamp': 1706334459227}, {'task_index': -1, 'event_type': 'paste_into_editor', 'messageAIindex': 0, 'timestamp': 1706334464915, 'copied_text': 'autocomplete_llama7_4_0-7811116'}, {'task_index': -1, 'task_id': 'chat_llama7_3_2', 'event_type': 'code_reset', 'timestamp': 1706334470307, 'code': ''}, {'task_index': -1, 'event_type': 'save_code', 'timestamp': 1706334473480, 'code': 'def sum_product(numbers):'}, {'task_index': -1, 'message': 'code for sum and product of array python', 'event_type': 'user_message', 'timestamp': 1706334482335}, {'task_index': -1, 'event_type': 'assistant_response', 'chatHistory': [{'content': 'code for sum and product of array python', 'role': 'user'}, {'content': ' In Python, you can use the `sum()` and `product()` functions to calculate the sum and product of an array, respectively. For example:\\n```\\nsum_array = sum(array)\\nproduct_array = product(array)\\n```\\nHere, `sum_array` will contain the sum of all the elements in the array, and `product_array` will contain the product of all the elements in the array.\\n\\nAlternatively, you can use the `np.sum()` and `np.product()` functions from the NumPy library to calculate the sum and product of an array. For example:\\n```\\nimport numpy as np\\n\\nsum_array = np.sum(array)\\nproduct_array = np.product(array)\\n```\\nHere, `sum_array` will contain the sum of all the elements in the array, and `product_array` will contain the product of all the elements in the array.\\n\\nYou can also use the `reduce()` function to calculate the sum and product of an array. For example:\\n```\\nsum_array = reduce(lambda x, y: x + y, array)\\nproduct_array = reduce(lambda x, y: x * y, array)\\n```\\nHere, `sum_array` will contain the sum of all the elements in the array, and `product_array` will contain the product of all the elements in the array.\\n\\nI hope this helps! Let me know if you have any questions.', 'role': 'assistant'}], 'logprobs': {'max': 0, 'std': 0.7265952850938487, 'firstElement': -4.9114227e-05, 'min': -10.3984375, 'lastElement': -1.847744e-05, 'median': -0.000108778477, 'mean': -0.13188689771747136, 'middleElement': -0.000103354454}, 'response': ' In Python, you can use the `sum()` and `product()` functions to calculate the sum and product of an array, respectively. For example:\\n```\\nsum_array = sum(array)\\nproduct_array = product(array)\\n```\\nHere, `sum_array` will contain the sum of all the elements in the array, and `product_array` will contain the product of all the elements in the array.\\n\\nAlternatively, you can use the `np.sum()` and `np.product()` functions from the NumPy library to calculate the sum and product of an array. For example:\\n```\\nimport numpy as np\\n\\nsum_array = np.sum(array)\\nproduct_array = np.product(array)\\n```\\nHere, `sum_array` will contain the sum of all the elements in the array, and `product_array` will contain the product of all the elements in the array.\\n\\nYou can also use the `reduce()` function to calculate the sum and product of an array. For example:\\n```\\nsum_array = reduce(lambda x, y: x + y, array)\\nproduct_array = reduce(lambda x, y: x * y, array)\\n```\\nHere, `sum_array` will contain the sum of all the elements in the array, and `product_array` will contain the product of all the elements in the array.\\n\\nI hope this helps! Let me know if you have any questions.', 'timestamp': 1706334488473, 'messageAIindex': 0}, {'task_index': -1, 'event_type': 'save_code', 'timestamp': 1706334488480, 'code': 'def sum_product(numbers):\\n    '}, {'task_index': -1, 'event_type': 'copy_code', 'response': 'Copied!\\nimport numpy as np\\n\\nsum_array = np.sum(array)\\nproduct_array = np.product(array)\\n', 'timestamp': 1706334498316, 'messageAIindex': 1, 'copied_text': '\\nimport numpy as np\\n\\nsum_array = np.sum(array)\\nproduct_array = np.product(array)\\n'}, {'task_index': -1, 'event_type': 'paste_into_editor', 'messageAIindex': 1, 'timestamp': 1706334499093, 'copied_text': '\\r\\nimport numpy as np\\r\\n\\r\\nsum_array = np.sum(array)\\r\\nproduct_array = np.product(array)\\r\\n'}, {'task_index': -1, 'event_type': 'save_code', 'timestamp': 1706334503486, 'code': 'def sum_product(numbers):\\n        \\n    import numpy as np\\n    \\n    sum_array = np.sum(array)\\n    product_array = np.product(array)\\n'}, {'task_index': -1, 'event_type': 'paste_into_editor', 'messageAIindex': 1, 'timestamp': 1706334516866, 'copied_text': 'sum_array'}, {'task_index': -1, 'event_type': 'save_code', 'timestamp': 1706334518477, 'code': 'def sum_product(numbers):\\n        \\n    import numpy as np\\n    \\n    sum_array = np.sum(array)\\n    product_array = np.product(array)\\n    return sum_array, '}, {'task_index': -1, 'event_type': 'paste_into_editor', 'messageAIindex': 1, 'timestamp': 1706334519739, 'copied_text': 'product_array'}, {'task_index': -1, 'event_type': 'submit_code', 'log': 'Code is incorrect.\\nError:Traceback (most recent call last):\\n  File \"index.py\", line 13, in <module>\\n    assert sum_product([]) == (0, 1)\\n  File \"index.py\", line 9, in sum_product\\n    sum_array = np.sum(array)\\nNameError: name \\'array\\' is not defined\\n\\nnull\\nError: Command failed: timeout 7 python3 index.py\\nTraceback (most recent call last):\\n  File \"index.py\", line 13, in <module>\\n    assert sum_product([]) == (0, 1)\\n  File \"index.py\", line 9, in sum_product\\n    sum_array = np.sum(array)\\nNameError: name \\'array\\' is not defined\\n', 'completed_task': 0, 'timestamp': 1706334521444}, {'task_index': -1, 'event_type': 'paste_into_editor', 'messageAIindex': 1, 'timestamp': 1706334528516, 'copied_text': 'array'}, {'task_index': -1, 'event_type': 'submit_code', 'log': 'correct code', 'completed_task': 1, 'timestamp': 1706334530199}, {'task_index': 0, 'task_id': 'chat_llama7_3_2', 'event_type': 'load_task', 'timestamp': 1706334530202}, {'task_index': 0, 'event_type': 'save_code', 'timestamp': 1706334533476, 'code': 'def even_odd_count(num):'}]\n"
     ]
    }
   ],
   "source": [
    "print(responses[id]['telemetry_data'])"
   ]
  },
  {
   "cell_type": "code",
   "execution_count": 108,
   "metadata": {},
   "outputs": [
    {
     "name": "stdout",
     "output_type": "stream",
     "text": [
      "['load_task', 'before_shown', 'request_suggestion', 'suggestion_shown', 'save_code', 'reject', 'accept', 'submit_code']\n"
     ]
    }
   ],
   "source": [
    "# get all different event types\n",
    "event_types = []\n",
    "telemetry = responses[id]['telemetry_data']\n",
    "for i in telemetry:\n",
    "    if i['event_type'] not in event_types:\n",
    "        event_types.append(i['event_type'])\n",
    "print(event_types)"
   ]
  },
  {
   "cell_type": "code",
   "execution_count": null,
   "metadata": {},
   "outputs": [],
   "source": [
    "responses['pilot_gpt35chat3-7227967']['telemetry_data']"
   ]
  },
  {
   "cell_type": "code",
   "execution_count": null,
   "metadata": {},
   "outputs": [],
   "source": [
    "id = \"pilot_gpt35chat3-7227967\"\n",
    "telemetry = responses[id]['telemetry_data']\n",
    "responses[id]"
   ]
  },
  {
   "cell_type": "code",
   "execution_count": null,
   "metadata": {},
   "outputs": [],
   "source": [
    "responses[id]"
   ]
  },
  {
   "cell_type": "code",
   "execution_count": 110,
   "metadata": {},
   "outputs": [
    {
     "name": "stdout",
     "output_type": "stream",
     "text": [
      "{'task_index': -1, 'task_id': 'autocomplete_llama7_4_0', 'event_type': 'load_task', 'timestamp': 1706334334149}\n",
      "{'task_index': 0, 'task_id': 'autocomplete_llama7_4_0', 'event_type': 'load_task', 'timestamp': 1706334359282}\n",
      "2\n",
      "{'task_index': -1, 'event_type': 'submit_code', 'log': 'correct code', 'completed_task': 1, 'timestamp': 1706334359280}\n",
      "1\n"
     ]
    }
   ],
   "source": [
    "# count how many event_type \"load_task\"\n",
    "count = 0\n",
    "for i in telemetry:\n",
    "    if i['event_type'] == 'load_task':\n",
    "        print(i)\n",
    "        count += 1\n",
    "print(count)\n",
    "# count how many event_type \"load_task\"\n",
    "count = 0\n",
    "for i in telemetry:\n",
    "    if i['event_type'] == 'submit_code':\n",
    "        print(i)\n",
    "        count += 1\n",
    "print(count)"
   ]
  },
  {
   "cell_type": "code",
   "execution_count": null,
   "metadata": {},
   "outputs": [],
   "source": [
    "# get all different event types\n",
    "event_types = []\n",
    "for i in telemetry:\n",
    "    if i['event_type'] not in event_types:\n",
    "        event_types.append(i['event_type'])\n",
    "print(event_types)"
   ]
  },
  {
   "cell_type": "code",
   "execution_count": null,
   "metadata": {},
   "outputs": [],
   "source": [
    "i = 0\n",
    "for event in telemetry:\n",
    "    if event['event_type'] == 'request_suggestion':\n",
    "        print(event)\n",
    "        print(i)\n",
    "        print(telemetry[i:i+10])\n",
    "    i = i + 1"
   ]
  },
  {
   "cell_type": "code",
   "execution_count": null,
   "metadata": {},
   "outputs": [],
   "source": [
    "# count how many event_type \"suggestion_shown\"\n",
    "count = 0\n",
    "count_accepted = 0\n",
    "\n",
    "for i in telemetry:\n",
    "    if i['event_type'] == 'suggestion_shown':\n",
    "        count += 1\n",
    "print(\"##############\")\n",
    "for i in telemetry:\n",
    "    if i['event_type'] == 'accept':\n",
    "        count_accepted += 1\n",
    "\n",
    "count_req = 0\n",
    "\n",
    "for i in telemetry:\n",
    "    if i['event_type'] == 'request_suggestion':\n",
    "        count_req += 1\n",
    "\n",
    "print(count)\n",
    "print(count_accepted/ count)\n",
    "print(count_accepted)\n",
    "print(count_req)"
   ]
  }
 ],
 "metadata": {
  "kernelspec": {
   "display_name": "hussein2",
   "language": "python",
   "name": "python3"
  },
  "language_info": {
   "codemirror_mode": {
    "name": "ipython",
    "version": 3
   },
   "file_extension": ".py",
   "mimetype": "text/x-python",
   "name": "python",
   "nbconvert_exporter": "python",
   "pygments_lexer": "ipython3",
   "version": "3.9.13"
  }
 },
 "nbformat": 4,
 "nbformat_minor": 2
}
