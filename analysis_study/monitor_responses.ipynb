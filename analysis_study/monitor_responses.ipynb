{
 "cells": [
  {
   "cell_type": "code",
   "execution_count": null,
   "metadata": {},
   "outputs": [],
   "source": [
    "import firebase_admin\n",
    "from firebase_admin import credentials\n",
    "from firebase_admin import firestore\n",
    "import pickle\n",
    "import os\n",
    "import json\n",
    "import numpy as np\n"
   ]
  },
  {
   "cell_type": "code",
   "execution_count": null,
   "metadata": {},
   "outputs": [],
   "source": [
    "\n",
    "cred = credentials.Certificate(\"../codeinterface-85b5e-firebase-adminsdk-11q7e-837ba92a03.json\")\n",
    "firebase_admin.initialize_app(cred)\n",
    "db = firestore.client()"
   ]
  },
  {
   "cell_type": "code",
   "execution_count": null,
   "metadata": {},
   "outputs": [],
   "source": [
    "responses[0]"
   ]
  },
  {
   "cell_type": "code",
   "execution_count": 103,
   "metadata": {},
   "outputs": [
    {
     "name": "stdout",
     "output_type": "stream",
     "text": [
      "test2431   test14@gmail.com autocomplete_gpt35_0_2-2939143\n",
      "test2431   test9@gmail.com autocomplete_gpt35_0_9-6876958\n",
      "test241  test12321@gmail.com autocomplete_gpt35_3_4-2391601\n",
      "test2431   test3@gmail.com autocomplete_gpt35_4_2-9166289\n",
      "test241  test1232122@gmail.com autocomplete_gpt35_4_8-6657698\n",
      "test259  test23@gmail.com autocomplete_llama34_0_1-3723412\n",
      "test259212  test23@gmail.com autocomplete_llama34_0_1-4067382\n",
      "test259  test23@gmail.com autocomplete_llama34_0_1-4531251\n",
      "test25921  test23@gmail.com autocomplete_llama34_0_1-8800564\n",
      "test2592  test23@gmail.com autocomplete_llama34_0_1-9326827\n",
      "test241  test1231@gmail.com autocomplete_llama34_0_9-1114450\n",
      "test2431   test123212221@gmail.com autocomplete_llama34_1_2-8277598\n",
      "test256  test@gmail.com autocomplete_llama34_1_7-6830777\n",
      "test2431   test7@gmail.com autocomplete_llama34_3_4-7277683\n",
      "test2431   test4@gmail.com autocomplete_llama34_4_9-8019699\n",
      "test248  test@gmail.com autocomplete_llama7_0_0-3214098\n",
      "test2431   test6@gmail.com autocomplete_llama7_0_7-884765\n",
      "test2431   test12@gmail.com autocomplete_llama7_3_4-9927643\n",
      "test2431   test5@gmail.com autocomplete_llama7_3_6-8991040\n",
      "test259212  test213@gmail.com chat_gpt35_1_1-6159110\n",
      "test2431   test17@gmail.com chat_gpt35_1_3-6922825\n",
      "test2431   test8@gmail.com chat_llama34_1_4-326191\n",
      "test2431   test10@gmail.com chat_llama34_3_0-112583\n",
      "test2431   test11@gmail.com chat_llama7_0_3-7749942\n",
      "test2431   test11@gmail.com chat_llama7_0_3-7877659\n",
      "test2431 3  test19@gmail.com chat_llama7_1_3-6129005\n",
      "test2431   test1@gmail.com chat_llama7_1_7-8244772\n",
      "test2431  test12321222@gmail.com chat_llama7_2_1-2965929\n",
      "test2431  test12321222@gmail.com chat_llama7_2_1-4208712\n",
      "test2431   test12321222@gmail.com chat_llama7_2_1-9925128\n",
      "test2431   test2@gmail.com chat_llama7_2_2-6050919\n",
      "test2431   test15@gmail.com chat_llama7_4_10-3566624\n",
      "test2431   test13@gmail.com chat_llama7_4_9-3774090\n",
      "test2431 3  test139@gmail.com nomodel_1_10-1165130\n",
      "test2431 3  test139@gmail.com nomodel_1_10-3791942\n",
      "36\n",
      "dict_keys(['autocomplete_gpt35_0_2-2939143', 'autocomplete_gpt35_0_9-6876958', 'autocomplete_gpt35_3_4-2391601', 'autocomplete_gpt35_4_2-9166289', 'autocomplete_gpt35_4_8-6657698', 'autocomplete_llama34_0_1-3723412', 'autocomplete_llama34_0_1-4067382', 'autocomplete_llama34_0_1-4531251', 'autocomplete_llama34_0_1-8800564', 'autocomplete_llama34_0_1-9326827', 'autocomplete_llama34_0_9-1114450', 'autocomplete_llama34_1_2-8277598', 'autocomplete_llama34_1_7-6830777', 'autocomplete_llama34_3_4-7277683', 'autocomplete_llama34_4_9-8019699', 'autocomplete_llama7_0_0-3214098', 'autocomplete_llama7_0_7-884765', 'autocomplete_llama7_3_4-9927643', 'autocomplete_llama7_3_6-8991040', 'chat_gpt35_1_1-6159110', 'chat_gpt35_1_3-6922825', 'chat_llama34_1_4-326191', 'chat_llama34_3_0-112583', 'chat_llama7_0_3-7749942', 'chat_llama7_0_3-7877659', 'chat_llama7_1_3-6129005', 'chat_llama7_1_7-8244772', 'chat_llama7_2_1-2965929', 'chat_llama7_2_1-4208712', 'chat_llama7_2_1-9925128', 'chat_llama7_2_2-6050919', 'chat_llama7_4_10-3566624', 'chat_llama7_4_9-3774090', 'nomodel_1_10-1165130', 'nomodel_1_10-3791942', 'test'])\n"
     ]
    }
   ],
   "source": [
    "docs = db.collection('responses').get()\n",
    "# save docs in a pickle file called old_tasks.pkl\n",
    "responses = {}\n",
    "for doc in docs:\n",
    "    doc_dict = doc.to_dict()\n",
    "    doc_dict['id'] = doc.id \n",
    "    responses[doc.id] = doc_dict\n",
    "# for each task print the name and email\n",
    "for resp in responses:\n",
    "    if 'test' not in responses[resp]:\n",
    "        print(responses[resp]['name'] + \"  \" +  responses[resp]['email']  +  \" \" + resp)\n",
    "    # key is the id of the document\n",
    "\n",
    "\n",
    "\n",
    "print(len(responses))\n",
    "print(responses.keys())"
   ]
  },
  {
   "cell_type": "code",
   "execution_count": 92,
   "metadata": {},
   "outputs": [
    {
     "name": "stdout",
     "output_type": "stream",
     "text": [
      "{'date_performed': 'Fri Jan 26 2024 15:17:24 GMT-0500 (Eastern Standard Time)', 'task_id': 'chat_llama7_2_1', 'telemetry_data': [{'task_index': -1, 'task_id': 'chat_llama7_2_1', 'event_type': 'load_task', 'timestamp': 1706300245233}, {'task_index': -1, 'event_type': 'save_code', 'timestamp': 1706300259945, 'code': 'def sum_product(numbers):'}, {'task_index': -1, 'event_type': 'run_code', 'log': 'Errors:  File \"index.py\", line 2\\n    \\n                             ^\\nSyntaxError: unexpected EOF while parsing\\n\\nnull\\nError: Command failed: timeout 7 python3 index.py\\n  File \"index.py\", line 2\\n    \\n                             ^\\nSyntaxError: unexpected EOF while parsing\\n', 'timestamp': 1706300275117}, {'task_index': -1, 'message': 'hi how are yu', 'event_type': 'user_message', 'timestamp': 1706300284128}, {'task_index': -1, 'message': 'da', 'event_type': 'user_message', 'timestamp': 1706300383170}, {'task_index': -1, 'message': 'a', 'event_type': 'user_message', 'timestamp': 1706300385309}, {'task_index': -1, 'event_type': 'clear_chat', 'timestamp': 1706300388937}, {'task_index': -1, 'message': 'ada', 'event_type': 'user_message', 'timestamp': 1706300390977}], 'email': 'test12321222@gmail.com', 'worker_id': 9925128, 'exp_condition': 'final_study', 'completed_task': 0, 'name': 'test2431 ', 'id': 'chat_llama7_2_1-9925128'}\n"
     ]
    }
   ],
   "source": [
    "id = 'chat_llama7_2_1-9925128'\n",
    "print(responses[id])"
   ]
  },
  {
   "cell_type": "code",
   "execution_count": 93,
   "metadata": {},
   "outputs": [
    {
     "name": "stdout",
     "output_type": "stream",
     "text": [
      "[{'task_index': -1, 'task_id': 'chat_llama7_2_1', 'event_type': 'load_task', 'timestamp': 1706300245233}, {'task_index': -1, 'event_type': 'save_code', 'timestamp': 1706300259945, 'code': 'def sum_product(numbers):'}, {'task_index': -1, 'event_type': 'run_code', 'log': 'Errors:  File \"index.py\", line 2\\n    \\n                             ^\\nSyntaxError: unexpected EOF while parsing\\n\\nnull\\nError: Command failed: timeout 7 python3 index.py\\n  File \"index.py\", line 2\\n    \\n                             ^\\nSyntaxError: unexpected EOF while parsing\\n', 'timestamp': 1706300275117}, {'task_index': -1, 'message': 'hi how are yu', 'event_type': 'user_message', 'timestamp': 1706300284128}, {'task_index': -1, 'message': 'da', 'event_type': 'user_message', 'timestamp': 1706300383170}, {'task_index': -1, 'message': 'a', 'event_type': 'user_message', 'timestamp': 1706300385309}, {'task_index': -1, 'event_type': 'clear_chat', 'timestamp': 1706300388937}, {'task_index': -1, 'message': 'ada', 'event_type': 'user_message', 'timestamp': 1706300390977}]\n"
     ]
    }
   ],
   "source": [
    "print(responses[id]['telemetry_data'])"
   ]
  },
  {
   "cell_type": "code",
   "execution_count": 94,
   "metadata": {},
   "outputs": [
    {
     "name": "stdout",
     "output_type": "stream",
     "text": [
      "['load_task', 'save_code', 'run_code', 'user_message', 'clear_chat']\n"
     ]
    }
   ],
   "source": [
    "# get all different event types\n",
    "event_types = []\n",
    "telemetry = responses[id]['telemetry_data']\n",
    "for i in telemetry:\n",
    "    if i['event_type'] not in event_types:\n",
    "        event_types.append(i['event_type'])\n",
    "print(event_types)"
   ]
  },
  {
   "cell_type": "code",
   "execution_count": null,
   "metadata": {},
   "outputs": [],
   "source": [
    "docs = db.collection('responses').get()\n",
    "# save docs in a pickle file called old_tasks.pkl\n",
    "responses = []\n",
    "for doc in docs:\n",
    "    doc_dict = doc.to_dict()\n",
    "    doc_dict['id'] = doc.id \n",
    "    responses.append(doc_dict)\n",
    "# 'date_performed': 'Sun Jan 21 2024 15:23:25 GMT-0800 (Pacific Standard Time)',\n",
    "# sort tasks by date\n",
    "responses.sort(key=lambda x: x['date_performed'])\n",
    "\n",
    "\n",
    "print(len(responses))\n"
   ]
  },
  {
   "cell_type": "code",
   "execution_count": null,
   "metadata": {},
   "outputs": [],
   "source": [
    "responses['pilot_gpt35chat3-7227967']['telemetry_data']"
   ]
  },
  {
   "cell_type": "code",
   "execution_count": null,
   "metadata": {},
   "outputs": [],
   "source": [
    "id = \"pilot_gpt35chat3-7227967\"\n",
    "telemetry = responses[id]['telemetry_data']\n",
    "responses[id]"
   ]
  },
  {
   "cell_type": "code",
   "execution_count": null,
   "metadata": {},
   "outputs": [],
   "source": [
    "responses[id]"
   ]
  },
  {
   "cell_type": "code",
   "execution_count": null,
   "metadata": {},
   "outputs": [],
   "source": [
    "# count how many event_type \"load_task\"\n",
    "count = 0\n",
    "for i in telemetry:\n",
    "    if i['event_type'] == 'load_task':\n",
    "        print(i)\n",
    "        count += 1\n",
    "print(count)\n",
    "# count how many event_type \"load_task\"\n",
    "count = 0\n",
    "for i in telemetry:\n",
    "    if i['event_type'] == 'submit_code':\n",
    "        print(i)\n",
    "        count += 1\n",
    "print(count)"
   ]
  },
  {
   "cell_type": "code",
   "execution_count": null,
   "metadata": {},
   "outputs": [],
   "source": [
    "# get all different event types\n",
    "event_types = []\n",
    "for i in telemetry:\n",
    "    if i['event_type'] not in event_types:\n",
    "        event_types.append(i['event_type'])\n",
    "print(event_types)"
   ]
  },
  {
   "cell_type": "code",
   "execution_count": null,
   "metadata": {},
   "outputs": [],
   "source": [
    "i = 0\n",
    "for event in telemetry:\n",
    "    if event['event_type'] == 'request_suggestion':\n",
    "        print(event)\n",
    "        print(i)\n",
    "        print(telemetry[i:i+10])\n",
    "    i = i + 1"
   ]
  },
  {
   "cell_type": "code",
   "execution_count": null,
   "metadata": {},
   "outputs": [],
   "source": [
    "# count how many event_type \"suggestion_shown\"\n",
    "count = 0\n",
    "count_accepted = 0\n",
    "\n",
    "for i in telemetry:\n",
    "    if i['event_type'] == 'suggestion_shown':\n",
    "        count += 1\n",
    "print(\"##############\")\n",
    "for i in telemetry:\n",
    "    if i['event_type'] == 'accept':\n",
    "        count_accepted += 1\n",
    "\n",
    "count_req = 0\n",
    "\n",
    "for i in telemetry:\n",
    "    if i['event_type'] == 'request_suggestion':\n",
    "        count_req += 1\n",
    "\n",
    "print(count)\n",
    "print(count_accepted/ count)\n",
    "print(count_accepted)\n",
    "print(count_req)"
   ]
  }
 ],
 "metadata": {
  "kernelspec": {
   "display_name": "hussein2",
   "language": "python",
   "name": "python3"
  },
  "language_info": {
   "codemirror_mode": {
    "name": "ipython",
    "version": 3
   },
   "file_extension": ".py",
   "mimetype": "text/x-python",
   "name": "python",
   "nbconvert_exporter": "python",
   "pygments_lexer": "ipython3",
   "version": "3.9.13"
  }
 },
 "nbformat": 4,
 "nbformat_minor": 2
}
