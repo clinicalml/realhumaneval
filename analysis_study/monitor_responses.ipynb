{
 "cells": [
  {
   "cell_type": "code",
   "execution_count": null,
   "metadata": {},
   "outputs": [],
   "source": [
    "import firebase_admin\n",
    "from firebase_admin import credentials\n",
    "from firebase_admin import firestore\n",
    "import pickle\n",
    "import os\n",
    "import json\n",
    "import numpy as np\n"
   ]
  },
  {
   "cell_type": "code",
   "execution_count": null,
   "metadata": {},
   "outputs": [],
   "source": [
    "\n",
    "cred = credentials.Certificate(\"../codeinterface-85b5e-firebase-adminsdk-11q7e-837ba92a03.json\")\n",
    "firebase_admin.initialize_app(cred)\n",
    "db = firestore.client()"
   ]
  },
  {
   "cell_type": "code",
   "execution_count": null,
   "metadata": {},
   "outputs": [],
   "source": [
    "responses[0]"
   ]
  },
  {
   "cell_type": "code",
   "execution_count": null,
   "metadata": {},
   "outputs": [],
   "source": [
    "docs = db.collection('responses').get()\n",
    "# save docs in a pickle file called old_tasks.pkl\n",
    "responses = {}\n",
    "for doc in docs:\n",
    "    doc_dict = doc.to_dict()\n",
    "    doc_dict['id'] = doc.id \n",
    "    responses[doc.id] = doc_dict\n",
    "# for each task print the name and email\n",
    "for resp in responses:\n",
    "    print(responses[resp]['name'] +  \" \" + resp)\n",
    "    # key is the id of the document\n",
    "\n",
    "\n",
    "\n",
    "print(len(responses))\n",
    "print(responses.keys())"
   ]
  },
  {
   "cell_type": "code",
   "execution_count": null,
   "metadata": {},
   "outputs": [],
   "source": [
    "docs = db.collection('responses').get()\n",
    "# save docs in a pickle file called old_tasks.pkl\n",
    "responses = []\n",
    "for doc in docs:\n",
    "    doc_dict = doc.to_dict()\n",
    "    doc_dict['id'] = doc.id \n",
    "    responses.append(doc_dict)\n",
    "# 'date_performed': 'Sun Jan 21 2024 15:23:25 GMT-0800 (Pacific Standard Time)',\n",
    "# sort tasks by date\n",
    "responses.sort(key=lambda x: x['date_performed'])\n",
    "\n",
    "\n",
    "print(len(responses))\n"
   ]
  },
  {
   "cell_type": "code",
   "execution_count": null,
   "metadata": {},
   "outputs": [],
   "source": [
    "responses['pilot_gpt35chat3-7227967']['telemetry_data']"
   ]
  },
  {
   "cell_type": "code",
   "execution_count": null,
   "metadata": {},
   "outputs": [],
   "source": [
    "id = \"pilot_gpt35chat3-7227967\"\n",
    "telemetry = responses[id]['telemetry_data']\n",
    "responses[id]"
   ]
  },
  {
   "cell_type": "code",
   "execution_count": null,
   "metadata": {},
   "outputs": [],
   "source": [
    "responses[id]"
   ]
  },
  {
   "cell_type": "code",
   "execution_count": null,
   "metadata": {},
   "outputs": [],
   "source": [
    "# count how many event_type \"load_task\"\n",
    "count = 0\n",
    "for i in telemetry:\n",
    "    if i['event_type'] == 'load_task':\n",
    "        print(i)\n",
    "        count += 1\n",
    "print(count)\n",
    "# count how many event_type \"load_task\"\n",
    "count = 0\n",
    "for i in telemetry:\n",
    "    if i['event_type'] == 'submit_code':\n",
    "        print(i)\n",
    "        count += 1\n",
    "print(count)"
   ]
  },
  {
   "cell_type": "code",
   "execution_count": null,
   "metadata": {},
   "outputs": [],
   "source": [
    "# get all different event types\n",
    "event_types = []\n",
    "for i in telemetry:\n",
    "    if i['event_type'] not in event_types:\n",
    "        event_types.append(i['event_type'])\n",
    "print(event_types)"
   ]
  },
  {
   "cell_type": "code",
   "execution_count": null,
   "metadata": {},
   "outputs": [],
   "source": [
    "i = 0\n",
    "for event in telemetry:\n",
    "    if event['event_type'] == 'request_suggestion':\n",
    "        print(event)\n",
    "        print(i)\n",
    "        print(telemetry[i:i+10])\n",
    "    i = i + 1"
   ]
  },
  {
   "cell_type": "code",
   "execution_count": null,
   "metadata": {},
   "outputs": [],
   "source": [
    "# count how many event_type \"suggestion_shown\"\n",
    "count = 0\n",
    "count_accepted = 0\n",
    "\n",
    "for i in telemetry:\n",
    "    if i['event_type'] == 'suggestion_shown':\n",
    "        count += 1\n",
    "print(\"##############\")\n",
    "for i in telemetry:\n",
    "    if i['event_type'] == 'accept':\n",
    "        count_accepted += 1\n",
    "\n",
    "count_req = 0\n",
    "\n",
    "for i in telemetry:\n",
    "    if i['event_type'] == 'request_suggestion':\n",
    "        count_req += 1\n",
    "\n",
    "print(count)\n",
    "print(count_accepted/ count)\n",
    "print(count_accepted)\n",
    "print(count_req)"
   ]
  }
 ],
 "metadata": {
  "kernelspec": {
   "display_name": "hussein2",
   "language": "python",
   "name": "python3"
  },
  "language_info": {
   "codemirror_mode": {
    "name": "ipython",
    "version": 3
   },
   "file_extension": ".py",
   "mimetype": "text/x-python",
   "name": "python",
   "nbconvert_exporter": "python",
   "pygments_lexer": "ipython3",
   "version": "3.9.13"
  }
 },
 "nbformat": 4,
 "nbformat_minor": 2
}
