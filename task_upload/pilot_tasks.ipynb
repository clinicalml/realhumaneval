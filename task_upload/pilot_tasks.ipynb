{
 "cells": [
  {
   "cell_type": "code",
   "execution_count": 2,
   "metadata": {},
   "outputs": [],
   "source": [
    "import firebase_admin\n",
    "from firebase_admin import credentials\n",
    "from firebase_admin import firestore\n",
    "import pickle\n",
    "import os\n",
    "import json\n",
    "import numpy as np\n"
   ]
  },
  {
   "cell_type": "markdown",
   "metadata": {},
   "source": [
    "Firebase signin"
   ]
  },
  {
   "cell_type": "code",
   "execution_count": 3,
   "metadata": {},
   "outputs": [],
   "source": [
    "\n",
    "cred = credentials.Certificate(\"../codeinterface-85b5e-firebase-adminsdk-11q7e-837ba92a03.json\")\n",
    "firebase_admin.initialize_app(cred)\n",
    "db = firestore.client()"
   ]
  },
  {
   "cell_type": "code",
   "execution_count": 4,
   "metadata": {},
   "outputs": [],
   "source": [
    "docs = db.collection('tasks').get()\n",
    "# save docs in a pickle file called old_tasks.pkl\n",
    "tasks = {}\n",
    "for doc in docs:\n",
    "    doc_dict = doc.to_dict()\n",
    "    doc_dict['id'] = doc.id \n",
    "    tasks[doc.id] = doc_dict"
   ]
  },
  {
   "cell_type": "code",
   "execution_count": 5,
   "metadata": {},
   "outputs": [],
   "source": [
    "\n",
    "folder_path = './tasks'  # Replace with the actual folder path\n",
    "\n",
    "# Initialize a list to store all tasks\n",
    "all_tasks = []\n",
    "\n",
    "# Iterate over each file in the folder\n",
    "for file_name in os.listdir(folder_path):\n",
    "    if file_name.endswith('.json'):\n",
    "        file_path = os.path.join(folder_path, file_name)\n",
    "        with open(file_path, 'r') as file:\n",
    "            # Load JSON content\n",
    "            task_data = json.load(file)\n",
    "            # Add the task to the list\n",
    "            all_tasks.append(task_data)\n",
    "\n",
    "all_tasks = np.array(all_tasks)"
   ]
  },
  {
   "cell_type": "code",
   "execution_count": 6,
   "metadata": {},
   "outputs": [
    {
     "data": {
      "text/plain": [
       "array([{'name': 'HumanEval/93', 'function_signature': 'def encode(message):', 'task_description': \"Write a function that takes a message, and encodes it in such a way that it swaps the case of all letters, replaces all vowels in the message with the letter that appears 2 places ahead of that vowel in the English alphabet. Assume only letters.\\n\\nExamples:\\n>>> encode('test')\\n'TGST'\\n>>> encode('This is a message')\\n'tHKS KS C MGSSCGG'\", 'unit_test': 'assert encode(\\'TEST\\') == \\'tgst\\', \"This prints if this assert fails 1 (good for debugging!)\"\\nassert encode(\\'Mudasir\\') == \\'mWDCSKR\\', \"This prints if this assert fails 2 (good for debugging!)\"\\nassert encode(\\'YES\\') == \\'ygs\\', \"This prints if this assert fails 3 (good for debugging!)\"\\nassert encode(\\'This is a message\\') == \\'tHKS KS C MGSSCGG\\', \"This prints if this assert fails 2 (also good for debugging!)\"\\nassert encode(\"I DoNt KnOw WhAt tO WrItE\") == \\'k dQnT kNqW wHcT Tq wRkTg\\', \"This prints if this assert fails 2 (also good for debugging!)\"'},\n",
       "       {'name': 'HumanEval/8', 'function_signature': 'def sum_product(numbers):', 'task_description': 'For a given list of integers, return a tuple consisting of a sum and a product of all the integers in a list. Empty sum should be equal to 0 and empty product should be equal to 1.\\n>>> sum_product([])\\n(0, 1)\\n>>> sum_product([1, 2, 3, 4])\\n(10, 24)', 'unit_test': 'assert sum_product([]) == (0, 1)\\nassert sum_product([1, 1, 1]) == (3, 1)\\nassert sum_product([100, 0]) == (100, 0)\\nassert sum_product([3, 5, 7]) == (3 + 5 + 7, 3 * 5 * 7)\\nassert sum_product([10]) == (10, 10)'},\n",
       "       {'name': 'HumanEval/155', 'function_signature': 'def even_odd_count(num):', 'task_description': 'Given an integer. return a tuple that has the number of even and odd digits respectively.\\n\\nExample:\\neven_odd_count(-12) ==> (1, 1)\\neven_odd_count(123) ==> (1, 2)', 'unit_test': 'assert even_odd_count(7) == (0, 1)\\nassert even_odd_count(-78) == (1, 1)\\nassert even_odd_count(3452) == (2, 2)\\nassert even_odd_count(346211) == (3, 3)\\nassert even_odd_count(-345821) == (3, 3)\\nassert even_odd_count(-2) == (1, 0)\\nassert even_odd_count(-45347) == (2, 3)\\nassert even_odd_count(0) == (1, 0)'},\n",
       "       {'name': 'HumanEval/75', 'function_signature': 'def is_multiply_prime(a):', 'task_description': 'Write a function that returns true if the given number is the multiplication of 3 prime numbers and false otherwise. Knowing that (a) is less then 100. \\nExample:\\nis_multiply_prime(30) == True\\n30 = 2 * 3 * 5', 'unit_test': 'assert is_multiply_prime(5) == False\\nassert is_multiply_prime(30) == True\\nassert is_multiply_prime(8) == True\\nassert is_multiply_prime(10) == False\\nassert is_multiply_prime(125) == True\\nassert is_multiply_prime(3 * 5 * 7) == True\\nassert is_multiply_prime(3 * 6 * 7) == False\\nassert is_multiply_prime(9 * 9 * 9) == False\\nassert is_multiply_prime(11 * 9 * 9) == False\\nassert is_multiply_prime(11 * 13 * 7) == True'},\n",
       "       {'name': 'HumanEval/145', 'function_signature': 'def order_by_points(nums):', 'task_description': 'Write a function which sorts the given list of integers in ascending order according to the sum of their digits. Note: if there are several items with similar sum of their digits, order them based on their index in original list.\\n\\nFor example:\\n>>> order_by_points([1, 11, -1, -11, -12]) == [-1, -11, 1, -12, 11]\\n>>> order_by_points([]) == []', 'unit_test': 'assert order_by_points([1, 11, -1, -11, -12]) == [-1, -11, 1, -12, 11]\\nassert order_by_points([1234,423,463,145,2,423,423,53,6,37,3457,3,56,0,46]) == [0, 2, 3, 6, 53, 423, 423, 423, 1234, 145, 37, 46, 56, 463, 3457]\\nassert order_by_points([]) == []\\nassert order_by_points([1, -11, -32, 43, 54, -98, 2, -3]) == [-3, -32, -98, -11, 1, 2, 43, 54]\\nassert order_by_points([1,2,3,4,5,6,7,8,9,10,11]) == [1, 10, 2, 11, 3, 4, 5, 6, 7, 8, 9]\\nassert order_by_points([0,6,6,-76,-21,23,4]) == [-76, -21, 0, 4, 23, 6, 6]'},\n",
       "       {'name': 'HumanEval/40', 'function_signature': 'def triples_sum_to_zero(l):', 'task_description': 'triples_sum_to_zero takes a list of integers as an input. It returns True if there are three distinct elements in the list that sum to zero, and False otherwise.\\n\\n>>> triples_sum_to_zero([1, 3, 5, 0])\\nFalse\\n>>> triples_sum_to_zero([1, 3, -2, 1])\\nTrue\\n>>> triples_sum_to_zero([1, 2, 3, 7])\\nFalse\\n>>> triples_sum_to_zero([2, 4, -5, 3, 9, 7])\\nTrue\\n>>> triples_sum_to_zero([1])\\nFalse', 'unit_test': 'assert triples_sum_to_zero([1, 3, 5, 0]) == False\\nassert triples_sum_to_zero([1, 3, 5, -1]) == False\\nassert triples_sum_to_zero([1, 3, -2, 1]) == True\\nassert triples_sum_to_zero([1, 2, 3, 7]) == False\\nassert triples_sum_to_zero([1, 2, 5, 7]) == False\\nassert triples_sum_to_zero([2, 4, -5, 3, 9, 7]) == True\\nassert triples_sum_to_zero([1]) == False\\nassert triples_sum_to_zero([1, 3, 5, -100]) == False\\nassert triples_sum_to_zero([100, 3, 5, -100]) == False'},\n",
       "       {'function_signature': 'def average(nums)', 'task_description': 'Write a Python function named average that calculates and returns the average of a list of numbers. The function should take one argument, nums, which is a list of numerical values. The average should be calculated as the sum of all elements in the list divided by the number of elements. If the list is empty, the function should return 0. \\n\\n The function signature should be: def average(nums)', 'unit_test': 'assert average([1, 2.5, 3, 4.5]) == 2.75\\nassert average([-10, -20, -30]) == -20\\nassert average([]) == 0', 'name': 'Average'},\n",
       "       {'name': 'HumanEval/91', 'function_signature': 'def is_bored(S):', 'task_description': 'You\\'ll be given a string of words, and your task is to count the number of boredoms. A boredom is a sentence that starts with the word \"I\". Sentences are delimited by \\'.\\', \\'?\\' or \\'!\\'.\\n\\nFor example:\\n>>> is_bored(\"Hello world\")\\n0\\n>>> is_bored(\"The sky is blue. The sun is shining. I love this weather\")\\n1', 'unit_test': 'assert is_bored(\"Hello world\") == 0\\nassert is_bored(\"Is the sky blue?\") == 0\\nassert is_bored(\"I love It !\") == 1\\nassert is_bored(\"bIt\") == 0\\nassert is_bored(\"I feel good today. I will be productive. will kill It\") == 2\\nassert is_bored(\"You and I are going for a walk\") == 0'},\n",
       "       {'name': 'HumanEval/108', 'function_signature': 'def count_nums(arr):', 'task_description': 'Write a function count_nums which takes an array of integers and returns the number of elements which has a sum of digits > 0. If a number is negative, then its first signed digit will be negative: e.g. -123 has signed digits -1, 2, and 3.\\n>>> count_nums([]) == 0\\n>>> count_nums([-1, 11, -11]) == 1\\n>>> count_nums([1, 1, 2]) == 3', 'unit_test': 'assert count_nums([]) == 0\\nassert count_nums([-1, -2, 0]) == 0\\nassert count_nums([1, 1, 2, -2, 3, 4, 5]) == 6\\nassert count_nums([1, 6, 9, -6, 0, 1, 5]) == 5\\nassert count_nums([1, 100, 98, -7, 1, -1]) == 4\\nassert count_nums([12, 23, 34, -45, -56, 0]) == 5\\nassert count_nums([-0, 1**0]) == 1\\nassert count_nums([1]) == 1'}],\n",
       "      dtype=object)"
      ]
     },
     "execution_count": 6,
     "metadata": {},
     "output_type": "execute_result"
    }
   ],
   "source": [
    "all_tasks"
   ]
  },
  {
   "cell_type": "code",
   "execution_count": 11,
   "metadata": {},
   "outputs": [],
   "source": [
    "# find task in all_tasks with field name  is Average\n",
    "def get_task_index(task_name):\n",
    "    for i in range(len(all_tasks)):\n",
    "        if all_tasks[i]['name'] == task_name:\n",
    "            return i\n",
    "    # raise error if task not found\n",
    "    raise ValueError('Task not found')\n",
    "tutorial_task_index = get_task_index('Average')\n",
    "tasks_chosen = np.array([get_task_index('HumanEval/8'),get_task_index('HumanEval/40'),\n",
    "                         get_task_index('HumanEval/75'),get_task_index('HumanEval/93')])"
   ]
  },
  {
   "cell_type": "code",
   "execution_count": 12,
   "metadata": {},
   "outputs": [
    {
     "data": {
      "text/plain": [
       "update_time {\n",
       "  seconds: 1704070238\n",
       "  nanos: 379324000\n",
       "}"
      ]
     },
     "execution_count": 12,
     "metadata": {},
     "output_type": "execute_result"
    }
   ],
   "source": [
    "\n",
    "# Extracting data for the tutorial task\n",
    "tutorial_task = all_tasks[tutorial_task_index]\n",
    "\n",
    "selected_tasks = [all_tasks[i] for i in tasks_chosen]\n",
    "\n",
    "# Creating the dictionary with the specified structure\n",
    "fb_taskgpt = {\n",
    "    'function_signatures': [task['function_signature'] for task in selected_tasks],\n",
    "    'task_descriptions': [task['task_description'] for task in selected_tasks],\n",
    "    'tutorial_function_signature': tutorial_task['function_signature'],\n",
    "    'model': \"gpt35\",  # As specified, for no model it is None\n",
    "    'tutorial_task_description': tutorial_task['task_description'],\n",
    "    'unit_tests': [task['unit_test'] for task in selected_tasks],\n",
    "    'exp_condition': 'pilot',  # Placeholder, as the actual condition is not specified\n",
    "    'max_tokens': 64,  # Placeholder, adjust as necessary\n",
    "    'tutorial_unit_test': tutorial_task['unit_test'],\n",
    "    'id': \"pilot_gpt35\"\n",
    "}\n",
    "\n",
    "fb_taskllama = {\n",
    "    'function_signatures': [task['function_signature'] for task in selected_tasks],\n",
    "    'task_descriptions': [task['task_description'] for task in selected_tasks],\n",
    "    'tutorial_function_signature': tutorial_task['function_signature'],\n",
    "    'model': \"togethercomputer/CodeLlama-7b\",  # As specified, for no model it is None\n",
    "    'tutorial_task_description': tutorial_task['task_description'],\n",
    "    'unit_tests': [task['unit_test'] for task in selected_tasks],\n",
    "    'exp_condition': 'pilot',  \n",
    "    'max_tokens': 64,  \n",
    "    'tutorial_unit_test': tutorial_task['unit_test'],\n",
    "    'id': \"pilot_llama7\"\n",
    "}\n",
    "\n",
    "doc_ref = db.collection(u'tasks').document(u'pilot_gpt35')\n",
    "doc_ref.set(fb_taskgpt)\n",
    "\n",
    "doc_ref = db.collection(u'tasks').document(u'pilot_llama7')\n",
    "doc_ref.set(fb_taskllama)\n",
    "\n"
   ]
  }
 ],
 "metadata": {
  "kernelspec": {
   "display_name": "hussein2",
   "language": "python",
   "name": "python3"
  },
  "language_info": {
   "codemirror_mode": {
    "name": "ipython",
    "version": 3
   },
   "file_extension": ".py",
   "mimetype": "text/x-python",
   "name": "python",
   "nbconvert_exporter": "python",
   "pygments_lexer": "ipython3",
   "version": "3.9.13"
  }
 },
 "nbformat": 4,
 "nbformat_minor": 2
}
