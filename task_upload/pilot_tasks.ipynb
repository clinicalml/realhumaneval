{
 "cells": [
  {
   "cell_type": "code",
   "execution_count": 15,
   "metadata": {},
   "outputs": [],
   "source": [
    "import firebase_admin\n",
    "from firebase_admin import credentials\n",
    "from firebase_admin import firestore\n",
    "import pickle\n",
    "import os\n",
    "import json\n",
    "import numpy as np\n"
   ]
  },
  {
   "cell_type": "markdown",
   "metadata": {},
   "source": [
    "Firebase signin"
   ]
  },
  {
   "cell_type": "code",
   "execution_count": null,
   "metadata": {},
   "outputs": [],
   "source": [
    "\n",
    "cred = credentials.Certificate(\"../codeinterface-85b5e-firebase-adminsdk-11q7e-837ba92a03.json\")\n",
    "firebase_admin.initialize_app(cred)\n",
    "db = firestore.client()"
   ]
  },
  {
   "cell_type": "code",
   "execution_count": 23,
   "metadata": {},
   "outputs": [],
   "source": [
    "docs = db.collection('tasks').get()\n",
    "# save docs in a pickle file called old_tasks.pkl\n",
    "tasks = {}\n",
    "for doc in docs:\n",
    "    doc_dict = doc.to_dict()\n",
    "    doc_dict['id'] = doc.id \n",
    "    tasks[doc.id] = doc_dict"
   ]
  },
  {
   "cell_type": "code",
   "execution_count": 24,
   "metadata": {},
   "outputs": [],
   "source": [
    "\n",
    "folder_path = './tasks'  # Replace with the actual folder path\n",
    "\n",
    "# Initialize a list to store all tasks\n",
    "all_tasks = []\n",
    "\n",
    "# Iterate over each file in the folder\n",
    "for file_name in os.listdir(folder_path):\n",
    "    if file_name.endswith('.json'):\n",
    "        file_path = os.path.join(folder_path, file_name)\n",
    "        with open(file_path, 'r') as file:\n",
    "            # Load JSON content\n",
    "            task_data = json.load(file)\n",
    "            # Add the task to the list\n",
    "            all_tasks.append(task_data)\n",
    "\n",
    "all_tasks = np.array(all_tasks)"
   ]
  },
  {
   "cell_type": "code",
   "execution_count": 25,
   "metadata": {},
   "outputs": [],
   "source": [
    "tutorial_task_index = 4\n",
    "tasks_chosen = np.array([0,1,2])"
   ]
  },
  {
   "cell_type": "code",
   "execution_count": 26,
   "metadata": {},
   "outputs": [
    {
     "data": {
      "text/plain": [
       "update_time {\n",
       "  seconds: 1704063410\n",
       "  nanos: 961349000\n",
       "}"
      ]
     },
     "execution_count": 26,
     "metadata": {},
     "output_type": "execute_result"
    }
   ],
   "source": [
    "\n",
    "# Extracting data for the tutorial task\n",
    "tutorial_task = all_tasks[tutorial_task_index]\n",
    "\n",
    "selected_tasks = [all_tasks[i] for i in tasks_chosen]\n",
    "\n",
    "# Creating the dictionary with the specified structure\n",
    "fb_taskgpt = {\n",
    "    'function_signatures': [task['function_signature'] for task in selected_tasks],\n",
    "    'task_descriptions': [task['task_description'] for task in selected_tasks],\n",
    "    'tutorial_function_signature': tutorial_task['function_signature'],\n",
    "    'model': \"gpt35\",  # As specified, for no model it is None\n",
    "    'tutorial_task_description': tutorial_task['task_description'],\n",
    "    'unit_tests': [task['unit_test'] for task in selected_tasks],\n",
    "    'exp_condition': 'pilot',  # Placeholder, as the actual condition is not specified\n",
    "    'max_tokens': 64,  # Placeholder, adjust as necessary\n",
    "    'tutorial_unit_test': tutorial_task['unit_test'],\n",
    "    'id': \"pilot_gpt35\"\n",
    "}\n",
    "\n",
    "fb_taskllama = {\n",
    "    'function_signatures': [task['function_signature'] for task in selected_tasks],\n",
    "    'task_descriptions': [task['task_description'] for task in selected_tasks],\n",
    "    'tutorial_function_signature': tutorial_task['function_signature'],\n",
    "    'model': \"togethercomputer/CodeLlama-7b\",  # As specified, for no model it is None\n",
    "    'tutorial_task_description': tutorial_task['task_description'],\n",
    "    'unit_tests': [task['unit_test'] for task in selected_tasks],\n",
    "    'exp_condition': 'pilot',  \n",
    "    'max_tokens': 64,  \n",
    "    'tutorial_unit_test': tutorial_task['unit_test'],\n",
    "    'id': \"pilot_llama7\"\n",
    "}\n",
    "\n",
    "doc_ref = db.collection(u'tasks').document(u'pilot_gpt35')\n",
    "doc_ref.set(fb_taskgpt)\n",
    "\n",
    "doc_ref = db.collection(u'tasks').document(u'pilot_llama7')\n",
    "doc_ref.set(fb_taskllama)\n",
    "\n"
   ]
  }
 ],
 "metadata": {
  "kernelspec": {
   "display_name": "hussein2",
   "language": "python",
   "name": "python3"
  },
  "language_info": {
   "codemirror_mode": {
    "name": "ipython",
    "version": 3
   },
   "file_extension": ".py",
   "mimetype": "text/x-python",
   "name": "python",
   "nbconvert_exporter": "python",
   "pygments_lexer": "ipython3",
   "version": "3.9.13"
  }
 },
 "nbformat": 4,
 "nbformat_minor": 2
}
