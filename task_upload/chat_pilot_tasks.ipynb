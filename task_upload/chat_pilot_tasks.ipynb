{
 "cells": [
  {
   "cell_type": "code",
   "execution_count": 2,
   "metadata": {},
   "outputs": [],
   "source": [
    "import firebase_admin\n",
    "from firebase_admin import credentials\n",
    "from firebase_admin import firestore\n",
    "import pickle\n",
    "import os\n",
    "import json\n",
    "import numpy as np\n"
   ]
  },
  {
   "cell_type": "markdown",
   "metadata": {},
   "source": [
    "Firebase signin"
   ]
  },
  {
   "cell_type": "code",
   "execution_count": 3,
   "metadata": {},
   "outputs": [],
   "source": [
    "\n",
    "cred = credentials.Certificate(\"../codeinterface-85b5e-firebase-adminsdk-11q7e-837ba92a03.json\")\n",
    "firebase_admin.initialize_app(cred)\n",
    "db = firestore.client()"
   ]
  },
  {
   "cell_type": "code",
   "execution_count": 4,
   "metadata": {},
   "outputs": [],
   "source": [
    "docs = db.collection('tasks').get()\n",
    "# save docs in a pickle file called old_tasks.pkl\n",
    "tasks = {}\n",
    "for doc in docs:\n",
    "    doc_dict = doc.to_dict()\n",
    "    doc_dict['id'] = doc.id \n",
    "    tasks[doc.id] = doc_dict\n"
   ]
  },
  {
   "cell_type": "code",
   "execution_count": 5,
   "metadata": {},
   "outputs": [],
   "source": [
    "today_date_string = str(np.datetime64('today', 'D'))\n",
    "with open('saved_data/old_tasks'+today_date_string+'.pkl', 'wb') as f:\n",
    "    pickle.dump(tasks, f)"
   ]
  },
  {
   "cell_type": "code",
   "execution_count": 13,
   "metadata": {},
   "outputs": [],
   "source": [
    "# remove all the documents from the collection\n",
    "for doc in docs:\n",
    "    doc.reference.delete()"
   ]
  },
  {
   "cell_type": "code",
   "execution_count": 7,
   "metadata": {},
   "outputs": [],
   "source": [
    "\n",
    "folder_path = './tasks'  # Replace with the actual folder path\n",
    "\n",
    "# Initialize a list to store all tasks\n",
    "all_tasks = []\n",
    "\n",
    "# Iterate over each file in the folder\n",
    "for file_name in os.listdir(folder_path):\n",
    "    if file_name.endswith('.json'):\n",
    "        file_path = os.path.join(folder_path, file_name)\n",
    "        with open(file_path, 'r') as file:\n",
    "            # Load JSON content\n",
    "            task_data = json.load(file)\n",
    "            # Add the task to the list\n",
    "            all_tasks.append(task_data)\n",
    "\n",
    "all_tasks = np.array(all_tasks)"
   ]
  },
  {
   "cell_type": "code",
   "execution_count": 8,
   "metadata": {},
   "outputs": [
    {
     "data": {
      "text/plain": [
       "17"
      ]
     },
     "execution_count": 8,
     "metadata": {},
     "output_type": "execute_result"
    }
   ],
   "source": [
    "len(all_tasks)"
   ]
  },
  {
   "cell_type": "code",
   "execution_count": 9,
   "metadata": {},
   "outputs": [
    {
     "name": "stdout",
     "output_type": "stream",
     "text": [
      "table_transform_unnamed2 \\\\ Type:   data_manip\n",
      "retriever \\\\ Type:   lengthy_code\n",
      "tokenizer \\\\ Type:   edit_code\n",
      "is_bored \\\\ Type:   logic\n",
      "t_test \\\\ Type:   data_manip_math\n",
      "event_scheduler \\\\ Type:   logic\n",
      "order_by_points \\\\ Type:   logic\n",
      "encode_message \\\\ Type:   logic\n",
      "triple_sum_to_zero \\\\ Type:   logic\n",
      "even_odd_count \\\\ Type:   logic\n",
      "sum_product \\\\ Type:   logic\n",
      "calculator \\\\ Type:   fix_code\n",
      "table_transform_unnamed1 \\\\ Type:   data_manip\n",
      "login_authenticator \\\\ Type:   lengthy_code\n",
      "is_multiply_prime \\\\ Type:   logic\n",
      "count_nums \\\\ Type:   logic\n",
      "table_transform_named \\\\ Type:   data_manip\n"
     ]
    }
   ],
   "source": [
    "# for each task in all_tasks print name and type\n",
    "for task in all_tasks:\n",
    "    print(task['name'], \"\\\\\\\\ Type:  \", task['type'])"
   ]
  },
  {
   "cell_type": "code",
   "execution_count": 10,
   "metadata": {},
   "outputs": [],
   "source": [
    "# find task in all_tasks with field name  is Average\n",
    "def get_task_index(task_name):\n",
    "    for i in range(len(all_tasks)):\n",
    "        if all_tasks[i]['name'] == task_name:\n",
    "            return i\n",
    "    # raise error if task not found\n",
    "    raise ValueError('Task not found')\n",
    "tutorial_task_index = get_task_index('sum_product')\n",
    "tasks_chosen = np.array([ get_task_index('count_nums'), get_task_index('t_test'),   get_task_index('table_transform_unnamed1'), get_task_index('login_authenticator'),\n",
    "                          get_task_index('retriever'), get_task_index('calculator'), get_task_index('is_bored')])\n",
    "\n",
    "# 2 logic problems, 1 data manipulation or lengthy code or edit code, logic and fill the rest \n",
    "# 5 sets of tasks - first 15mins should be the same \n"
   ]
  },
  {
   "cell_type": "markdown",
   "metadata": {},
   "source": [
    "How many sets of tasks and how do we configure each set"
   ]
  },
  {
   "cell_type": "code",
   "execution_count": 11,
   "metadata": {},
   "outputs": [
    {
     "data": {
      "text/plain": [
       "array([{'name': 'count_nums', 'task_description': 'Write a function count_nums which takes an array of integers and returns the number of elements which has a sum of digits > 0. If a number is negative, then its first signed digit will be negative: e.g. -123 has signed digits -1, 2, and 3.\\n count_nums([1, 1, 2]) == 3,\\n count_nums([-1, 11, -11]) == 1', 'function_signature': 'def count_nums(arr):', 'unit_test': 'assert count_nums([]) == 0\\nassert count_nums([-1, -2, 0]) == 0\\nassert count_nums([1, 1, 2, -2, 3, 4, 5]) == 6\\nassert count_nums([1, 6, 9, -6, 0, 1, 5]) == 5\\nassert count_nums([1, 100, 98, -7, 1, -1]) == 4\\nassert count_nums([12, 23, 34, -45, -56, 0]) == 5\\nassert count_nums([-0, 1**0]) == 1\\nassert count_nums([1]) == 1', 'solution': 'def count_nums(arr):\\n    def digits_sum(n):\\n        neg = 1\\n        if n < 0: n, neg = -1 * n, -1\\n        n = [int(i) for i in str(n)]\\n        n[0] = n[0] * neg\\n        return sum(n)\\n    return len(list(filter(lambda x: x > 0, [digits_sum(i) for i in arr])))', 'type': 'logic'},\n",
       "       {'name': 't_test', 'task_description': '\\nYour goal is to complete the function simplified_t_test. This function takes as input two arrays of numbers and will return a float value called t_test. \\n\\nThe simplified_t_test is a statistical test that is used to compare the means of two populations. The value is computed as follows:\\n\\nt_test =  abs ( (mean1 - mean2) / sqrt((variance1 / n1) + (variance2 / n2))  )\\n\\nwhere mean1 and mean2 are the means of the two populations, variance1 and variance2 are the variances of the two populations with a modified denominator:\\nvariance1 = sum((x - mean1)^2) / (n1 - 2)\\nvariance2 = sum((x - mean2)^2) / (n2 - 2)\\n\\n, and n1 and n2 are the number of samples in each population. Note this is not the ordinary t-test, but a simplified version of it.\\n', 'function_signature': \"\\n\\n# function signature\\ndef simplified_t_test(sample1, sample2):\\n    '''\\n    :param sample1: List or array of sample data (sample 1)\\n    :param sample2: List or array of sample data (sample 2)\\n    :return: simplified t-test statistic\\n    '''\\n    t_test = 0\\n    # write your code here\\n    return t_test\\n\", 'unit_test': '\\nimport numpy as np\\n\\n# Test with known values\\nsample1 = [10, 20, 30, 40, 50]\\nsample2 = [30, 40, 50, 60, 70]\\nexpected_t_stat = 1.7320508075688774  # This value should be pre-calculated\\nprint(simplified_t_test(sample1, sample2))\\nassert np.isclose(simplified_t_test(sample1, sample2), expected_t_stat, atol=1e-3), \"Test with known values failed\"\\n\\n# Test with identical samples\\nidentical_sample = [1, 2, 3, 4, 5]\\nassert simplified_t_test(identical_sample, identical_sample) == 0, \"Test with identical samples failed\"\\n\\n\\nsample1 = [1,2,-1,3,4]\\nsample2 = [2,3,-2,4,5]\\nexpected_t_stat = 0.35032452487268523\\nprint(simplified_t_test(sample1, sample2))\\nassert np.isclose(simplified_t_test(sample1, sample2), expected_t_stat, atol=1e-3), \"Test with known values failed\"\\n', 'solution': \"\\nimport numpy as np\\n\\ndef simplified_t_test(sample1, sample2):\\n    '''\\n    :param sample1: List or array of sample data (sample 1)\\n    :param sample2: List or array of sample data (sample 2)\\n    :return: simplified t-test statistic\\n    '''\\n    t_test = 0\\n    # write your code here\\n    mean1 = np.mean(sample1)\\n    mean2 = np.mean(sample2)\\n    # variance with modified denominator\\n    variance1 = np.var(sample1, ddof=2)\\n    variance2 = np.var(sample2, ddof=2)\\n    n1 = len(sample1)\\n    n2 = len(sample2)\\n    t_test = (mean1 - mean2) / np.sqrt(variance1/n1 + variance2/n2)\\n    return abs(t_test)\\n\", 'type': 'data_manip_math'},\n",
       "       {'name': 'table_transform_unnamed1', 'task_description': '\\n+----+--------+--------+---------+--------+--------+\\n|    |   col1 |   col2 |    col3 |   col4 |   col5 |\\n|----+--------+--------+---------+--------+--------|\\n|  0 |      6 |      4 | 0.56713 |     10 |      4 |\\n|  1 |      1 |      6 | 2.72656 |      9 |      6 |\\n|  2 |      4 |      3 | 4.77665 |     10 |      1 |\\n|  3 |      4 |      5 | 8.12169 |      5 |      3 |\\n|  4 |      8 |      8 | 4.79977 |      4 |      4 |\\n|  5 |     10 |      7 | 3.92785 |      1 |      9 |\\n+----+--------+--------+---------+--------+--------+\\n\\nThis is a pandas dataframe provided to you above as input.\\n\\nYou need to transform it exactly to the following output dataframe:\\n\\n+----+--------+--------+---------+--------+\\n|    |   col1 |   col2 |    col3 |   col4 |\\n|----+--------+--------+---------+--------|\\n|  0 |     60 |      0 | 0.56713 |   1000 |\\n|  1 |      9 |      2 | 2.72656 |    900 |\\n|  2 |     40 |      4 | 4.77665 |   1000 |\\n|  3 |     20 |      8 | 8.12169 |    500 |\\n|  4 |     32 |      4 | 4.79977 |    400 |\\n|  5 |     10 |      3 | 3.92785 |    100 |\\n+----+--------+--------+---------+--------+\\n\\nYour code should be placed inside a function called transform_df that takes as input a dataframe and returns the transformed dataframe. There are patterns that you have to discover.\\n', 'function_signature': \"\\nimport pandas as pd\\nfrom io import StringIO\\n\\n# Original dataset\\ndata = '''\\ncol1,col2,col3,col4,col5\\n6,4,0.5671297731744318,10,4\\n1,6,2.726562945801132,9,6\\n4,3,4.776651173213499,10,1\\n4,5,8.121687287754932,5,3\\n8,8,4.799771723750573,4,4\\n10,7,3.9278479610082973,1,9\\n'''\\n\\n# Read the dataset into a DataFrame\\ndf = pd.read_csv(StringIO(data))\\n\\ndef transform_df(df):\\n    # Your code here\\n\\nprint(transform_df(df))\\n\", 'unit_test': \"import numpy as np\\ndata = '''\\ncol1,col2,col3,col4,col5\\n6,4,0.5671297731744318,10,4\\n1,6,2.726562945801132,9,6\\n4,3,4.776651173213499,10,1\\n4,5,8.121687287754932,5,3\\n8,8,4.799771723750573,4,4\\n10,7,3.9278479610082973,1,9\\n'''\\ndf = pd.read_csv(StringIO(data))\\nnew_data_testing = '''\\ncol1,col2,col3,col4\\n60,0,0.5671297731744318,1000\\n9,2,2.726562945801132,900\\n40,4,4.776651173213499,1000\\n20,8,8.121687287754932,500\\n32,4,4.799771723750573,400\\n10,3,3.9278479610082973,100\\n'''\\ndef evaluate_correctness(target_df, input_df):\\n    # drop index column from both\\n    target_df.reset_index(drop=True, inplace=True)\\n    input_df.reset_index(drop=True, inplace=True)\\n    score = 0\\n    for col in target_df.columns:\\n        if col not in input_df.columns:\\n            score -=1 \\n        else:\\n            if np.all(target_df[col] != input_df[col]):\\n                score-=1\\n    for col in input_df.columns:\\n        if col not in target_df.columns:\\n            score -=1\\n    return score\\nnew_data_df_testing = pd.read_csv(StringIO(new_data_testing))\\nassert evaluate_correctness(new_data_df_testing, transform_df(df)) == 0\\n\", 'solution': \"\\nimport pandas as pd\\nfrom io import StringIO\\ndef transform_df(df):\\n    df_transformed = df.copy()\\n\\n    # col1 as the multiplication of col1 and col4\\n    df_transformed['col1'] = df['col1'] * df['col4']\\n\\n    # col2 as col3 truncated to the nearest integer\\n    df_transformed['col2'] = df['col3'].astype(int)\\n\\n    # col4 multiplied by 100\\n    df_transformed['col4'] = df['col4'] * 100\\n\\n    # Remove col5\\n    df_transformed.drop('col5', axis=1, inplace=True)\\n    return df_transformed\\n\", 'type': 'data_manip'},\n",
       "       {'name': 'login_authenticator', 'task_description': \"\\nYour goal is to implement the LoginAuthenticator class. This class will be used to authenticate users of a system. \\n\\nYou will implement the following methods in the LoginAuthenticator class:\\n\\n_hash_password (Private Method):\\n\\nPurpose: To create a hash of a given password.\\nParameters: password (string).\\nProcess: use any hashing tehnique you like\\nReturn: The hashed password \\n\\nadd_user Method:\\n\\nPurpose: To add a new user to the system with a username and a password.\\nParameters: username (string), password (string).\\nProcess:\\n- Check if the username already exists in self.user_credentials.\\n- If it does, return False to indicate the username is already taken.\\n- If not, hash the password using _hash_password method and store the username and hashed password in self.user_credentials.\\nReturn: True if the user was successfully added, otherwise False.\\n\\nremove_user Method:\\n\\nPurpose: To remove a user from the system.\\nParameters: username (string).\\nProcess:\\n- Check if the username exists in self.user_credentials.\\n- If it does, delete the username entry from self.user_credentials.\\nReturn: True if the user was successfully removed, otherwise False.\\n\\n\\nchange_password Method:\\n\\nPurpose: To change a user's password.\\nParameters: username (string), old_password (string), new_password (string).\\nProcess:\\n- First, authenticate the user using the authenticate_user method with username and old_password.\\n- If authentication is successful, hash the new_password and update the self.user_credentials with the new hashed password.\\nReturn: True if the password was successfully changed, otherwise False.\\n\", 'function_signature': '\\nclass LoginAuthenticator:\\n    def __init__(self):\\n        # DO NOT CHANGE\\n        self.user_credentials = {}  # dictionary for username: hashed_password\\n\\n    def _hash_password(self, password):\\n        # WRITE CODE HERE\\n        return\\n\\n    def add_user(self, username, password):\\n        # WRITE CODE HERE\\n        return\\n\\n    def authenticate_user(self, username, password):\\n        # DO NOT CHANGE\\n        #Checks if the given username and password are valid\\n        if username not in self.user_credentials:\\n            return False\\n        return self.user_credentials[username] == self._hash_password(password)\\n\\n    def remove_user(self, username):\\n        # WRITE CODE HERE\\n        return\\n\\n    def change_password(self, username, old_password, new_password):\\n        # WRITE CODE HERE\\n        return\\n', 'unit_test': '\\n# Assuming the LoginAuthenticator class is defined as previously provided\\n\\n# Create an instance of the LoginAuthenticator\\nauthenticator = LoginAuthenticator()\\n\\n# Test adding new users\\nassert authenticator.add_user(\"user1\", \"password1\") == True  # Should succeed\\nassert authenticator.add_user(\"user2\", \"password2\") == True  # Should succeed\\nassert authenticator.add_user(\"user1\", \"new_password\") == False  # Should fail, user1 already exists\\n\\n# Test authenticating users\\nassert authenticator.authenticate_user(\"user1\", \"password1\") == True  # Correct credentials\\nassert authenticator.authenticate_user(\"user1\", \"wrong_password\") == False  # Wrong password\\nassert authenticator.authenticate_user(\"user3\", \"password\") == False  # Non-existent user\\n\\n# Test removing users\\nassert authenticator.remove_user(\"user1\") == True  # Should succeed in removing user1\\nassert authenticator.remove_user(\"user1\") == False  # user1 no longer exists\\nassert authenticator.remove_user(\"user3\") == False  # user3 does not exist\\n\\n# Test changing passwords\\nassert authenticator.change_password(\"user2\", \"password2\", \"newpass2\") == True  # Should succeed\\nassert authenticator.authenticate_user(\"user2\", \"newpass2\") == True  # New password should work\\nassert authenticator.change_password(\"user2\", \"password2\", \"anothernewpass\") == False  # Old password no longer valid\\nassert authenticator.change_password(\"nonexistent_user\", \"pass\", \"newpass\") == False  # Non-existent user\\n\\nprint(\"All tests passed!\")\\n', 'solution': \"\\nimport hashlib\\n\\nclass LoginAuthenticator:\\n    def __init__(self):\\n        self.user_credentials = {}  # dictionary for username: hashed_password\\n\\n    def _hash_password(self, password):\\n        #Helper method to hash a password.\\n        return hashlib.sha256(password.encode()).hexdigest()\\n\\n    def add_user(self, username, password):\\n        #Adds a new user if the username doesn't already exist.\\n        if username in self.user_credentials:\\n            return False  # Username already exists\\n        self.user_credentials[username] = self._hash_password(password)\\n        return True\\n\\n    def authenticate_user(self, username, password):\\n        #Checks if the given username and password are valid.\\n        if username not in self.user_credentials:\\n            return False\\n        return self.user_credentials[username] == self._hash_password(password)\\n\\n    def remove_user(self, username):\\n        #Removes a user from the system.\\n        if username in self.user_credentials:\\n            del self.user_credentials[username]\\n            return True\\n        return False\\n\\n    def change_password(self, username, old_password, new_password):\\n        #Changes the password for a user if the old password is correct.\\n        if self.authenticate_user(username, old_password):\\n            self.user_credentials[username] = self._hash_password(new_password)\\n            return True\\n        return False\\n\", 'type': 'lengthy_code'},\n",
       "       {'name': 'retriever', 'task_description': \"\\nYour task is to create a class called Retriever. This class will be used to retrieve similar vectors from a collection of vectors. You should follow the instructions below to complete this task.\\n\\n\\nCreate an instance of the Retriever class by providing two arguments:\\nvectors: A numpy array of vectors you want to analyze.\\nk: An integer indicating the number of top similar vectors you want to retrieve.\\nExample:\\n\\nfrom numpy import array\\nvectors = array([[1, 2], [3, 4], [5, 6]])\\nk = 2\\nretriever = Retriever(vectors, k)\\n\\n\\nSetting 'k' Value:\\n\\nUse the set_k method to update the value of k (number of top vectors to retrieve).\\nThis method takes a single integer argument.\\nThe value of k should be between 1 and the total number of vectors. If not, then the method should do nothing (do not raise an error).\\nExample:\\nretriever.set_k(3)\\n\\nAdding New Vectors:\\n\\nAdd additional vectors to your existing collection using the add_vectors method.\\nThis method accepts a numpy array of new vectors to be added.\\nExample:\\n\\nnew_vectors = array([[7, 8], [9, 10]])\\nretriever.add_vectors(new_vectors)\\n\\n\\nCalculating Distances:\\n\\nTo calculate the distance between a query vector and all stored vectors, use the distance method.\\nThis method takes a single numpy array representing the query vector.\\nIt returns a numpy array of distances.\\nExample:\\n\\n\\nquery_vector = array([1, 2])\\ndistances = retriever.distance(query_vector)\\n\\n\\nRetrieving Top 'k' Similar Vectors:\\n\\nUse the get_top_k_similar_vectors method to find the top 'k' vectors most similar to a given query vector.\\nThis method takes a single numpy array as the query vector.\\nIt returns a numpy array of the top 'k' similar vectors.\\n\\nExample:\\n\\ntop_vectors = retriever.get_top_k_similar_vectors(query_vector)\\n\\nGenerating a Similarity Matrix:\\n\\nTo create a similarity matrix between multiple queries and the stored vectors, use the get_similarity_matrix method.\\nThis method accepts a numpy array of query vectors.\\nIt returns a 2D numpy array where each row corresponds to the distances between a query vector and all stored vectors.\\n\\nExample:\\n\\nquery_vectors = array([[1, 2], [3, 4]])\\nsimilarity_matrix = retriever.get_similarity_matrix(query_vectors)\\n\", 'function_signature': '\\nclass Retriever:\\n', 'unit_test': '\\nimport numpy as np\\n\\n# Test Initialization\\nvectors = np.array([[1, 2], [3, 4], [5, 6]])\\nk = 2\\nretriever = Retriever(vectors, k)\\nassert (retriever.vectors == vectors).all() and retriever.k == k, \"Initialization Failed\"\\n\\n# Test set_k Method\\nretriever.set_k(1)\\nassert retriever.k == 1, \"set_k Method Failed\"\\nretriever.set_k(0)  # Edge case\\nassert retriever.k == 1, \"set_k Method Failed on Edge Case\"\\n\\n# Test add_vectors Method\\nnew_vectors = np.array([[7, 8], [9, 10]])\\nretriever.add_vectors(new_vectors)\\nassert (retriever.vectors == np.array([[1, 2], [3, 4], [5, 6], [7, 8], [9, 10]])).all(), \"add_vectors Method Failed\"\\n\\n# Test distance Method\\nquery = np.array([1, 2])\\ndistances = retriever.distance(query)\\nground_truth_distances = np.array([0, 2.82842712, 5.65685425, 8.48528137, 11.3137085])\\nassert np.allclose(distances, ground_truth_distances, atol=1e-3), \"distance Method Failed\"\\nassert len(distances) == len(retriever.vectors), \"distance Method Failed\"\\n\\n# Test get_top_k_similar_vectors Method\\ntop_vectors = retriever.get_top_k_similar_vectors(query)\\nground_truth_top_vectors = np.array([[1, 2]])\\nassert (top_vectors == ground_truth_top_vectors).all(), \"get_top_k_similar_vectors Method Failed\"\\nassert len(top_vectors) == retriever.k, \"get_top_k_similar_vectors Method Failed\"\\n\\n# Test get_similarity_matrix Method\\nquery_vectors = np.array([[1, 2], [3, 4]])\\nsimilarity_matrix = retriever.get_similarity_matrix(query_vectors)\\n\\nassert similarity_matrix.shape == (len(query_vectors), len(retriever.vectors)), \"get_similarity_matrix Method Failed\"\\n', 'solution': \"\\nimport numpy as np\\nclass Retriever:\\n    def __init__(self, vectors, k):\\n        self.vectors = vectors\\n        self.k = k\\n\\n    def set_k(self, k):\\n        if k > len(self.vectors) or k < 1:\\n            return\\n        self.k = k\\n\\n    def add_vectors(self, new_vectors):\\n        self.vectors = np.concatenate((self.vectors, new_vectors))\\n        \\n    def distance(self, query):\\n        ''' \\n        query: single numpy arrray\\n        return: inverse l2 distances from query to the vectors\\n        '''\\n        distances = np.linalg.norm(self.vectors - query, axis=1)\\n        return distances\\n    \\n    def get_top_k_similar_vectors(self, query):\\n        '''\\n        query: single numpy array\\n        return: top k similar vectors\\n        '''\\n        scores = self.distance(query)\\n        # np.argsort sorts in ascending order\\n        indices_top = np.argsort(scores)\\n        top_k_indices = indices_top[:self.k]\\n        return self.vectors[top_k_indices]\\n    \\n    def get_similarity_matrix(self, queries):\\n        '''\\n        queries: numpy array of query vectors\\n        return: similarity matrix of size (len(queries), len(self.vectors))\\n        '''\\n        similarity_matrix = []\\n        for query in queries:\\n            similarity_matrix.append(self.distance(query))\\n        return np.array(similarity_matrix)\\n\", 'type': 'lengthy_code'},\n",
       "       {'name': 'calculator', 'task_description': '\\nThis is a special calculator that keeps track of the previous operations performed.\\nNote that operations like add or sutract are not the standard ones---this is on purpose.\\n\\nYour job is to fix the following remaining bugs in the Calculator class:\\n\\n- You should not modify the two lines of code in the add, subtract, multiply, and divide methods.\\n\\n- Ensure that the add, subtract, multiply, and divide methods only execute if the input is valid. If the input is not valid, the method should return WITHOUT doing anything or raising any errors.\\n\\n- Fix the implementation of undo_last_operation by using the previous_operations list. \\n\\n', 'function_signature': '\\nlass Calculator:\\n    def __init__(self):\\n        # the calculator only keeps track of the current number\\n        self.current_number = 0\\n        # stores the previous operations performed\\n        self.previous_operations = []\\n    def add(self, a):\\n        \\'\\'\\'\\n        a: real number\\n        \\'\\'\\'\\n        # the two lines below should not be changed\\n        self.previous_operations.append((a, \"add\"))\\n        self.current_number += a + 20\\n    \\n    def subtract(self, a):\\n        \\'\\'\\'\\n        a: real number\\n        \\'\\'\\'\\n\\n        # the two lines below should not be changed\\n        self.previous_operations.append((a, \"subtract\"))\\n        self.current_number =  self.current_number - a/10\\n\\n    def multiply(self, a):\\n        \\'\\'\\'\\n        a: real number\\n        \\'\\'\\'\\n\\n        # the two lines below should not be changed\\n        self.previous_operations.append((a, \"multiply\"))\\n        self.current_number =  (self.current_number ** a ) / a\\n\\n    def divide(self, a):\\n        \\'\\'\\'\\n        a: positive integer\\n        \\'\\'\\'\\n\\n        # the two lines below should not be changed\\n        self.previous_operations.append((a, \"divide\"))\\n        self.current_number =  self.current_number / a * 2\\n\\n    def undo_last_operation(self):\\n        \\'\\'\\'\\n        undoes the last operation performed and restors current_number to the value before the last operation\\n        \\'\\'\\'\\n        # fix this code\\n        last_operation = self.previous_operations.pop()\\n    \\n    def undo_last_k_operations(self, k):\\n        \\'\\'\\' \\n        undoes the last k operations performed and restores current_number to the value before the last k operations\\n        Args:\\n            k (int): number of operations to undo\\n        \\'\\'\\'\\n        for i in range(k):\\n            self.undo_last_operation()\\n\\n', 'unit_test': \"\\ncalc = Calculator()\\ncalc.add(5)\\nassert calc.current_number == 25\\ncalc.add('a')\\nassert calc.current_number == 25\\ncalc.subtract(2.2)\\nassert calc.current_number == 24.78\\ncalc.multiply(0)\\nassert calc.current_number == 24.78\\ncalc.multiply(2)\\nassert calc.current_number == 307.0242\\ncalc.divide(-1)\\nassert calc.current_number == 307.0242\\ncalc.undo_last_operation()\\nassert calc.current_number == 24.78\\ncalc.undo_last_k_operations(2)\\nassert calc.current_number == 0.0\\n\", 'solution': '\\nclass Calculator:\\n    def __init__(self):\\n        # the calculator only keeps track of the current number\\n        self.current_number = 0\\n        # stores the previous operations performed\\n        self.previous_operations = []\\n\\n\\n    def add(self, a):\\n        \\'\\'\\'\\n        a: real number\\n        \\'\\'\\'\\n        if not isinstance(a, (int, float)):\\n            return\\n        # two lines below should not be changed\\n        self.previous_operations.append((a, \"add\"))\\n        self.current_number += a + 20\\n    \\n    def subtract(self, a):\\n        \\'\\'\\'\\n        a: real number\\n        \\'\\'\\'\\n        if not isinstance(a, (int, float)):\\n            return\\n        # two lines below should not be changed\\n        self.previous_operations.append((a, \"subtract\"))\\n        self.current_number =  self.current_number - a/10\\n\\n    def multiply(self, a):\\n        \\'\\'\\'\\n        a: real number\\n        \\'\\'\\'\\n        if not isinstance(a, (int, float)) or a == 0:\\n            return\\n        # two lines below should not be changed\\n        self.previous_operations.append((a, \"multiply\"))\\n        self.current_number =  (self.current_number ** a ) / a\\n\\n    def divide(self, a):\\n        \\'\\'\\'\\n        a: positive integer\\n        \\'\\'\\'\\n        if not isinstance(a, (int)) or a <= 0:\\n            return\\n        # two lines below should not be changed\\n        self.previous_operations.append((a, \"divide\"))\\n        self.current_number =  self.current_number / a * 2\\n\\n    def undo_last_operation(self):\\n        \\'\\'\\'\\n        undoes the last operation performed and restors current_number to the value before the last operation\\n        \\'\\'\\'\\n        last_operation = self.previous_operations.pop()\\n        if last_operation[1] == \"add\":\\n            self.current_number -= last_operation[0] + 20\\n        elif last_operation[1] == \"subtract\":\\n            self.current_number += last_operation[0]/10\\n        elif last_operation[1] == \"multiply\":\\n            self.current_number =  (self.current_number * last_operation[0] ) ** (1/last_operation[0])\\n        elif last_operation[1] == \"divide\":\\n            self.current_number =  self.current_number * last_operation[0] / 2\\n        \\n    def undo_last_k_operations(self, k):\\n        \\'\\'\\' \\n        undoes the last k operations performed and restores current_number to the value before the last k operations\\n        Args:\\n            k (int): number of operations to undo\\n        \\'\\'\\'\\n        for i in range(k):\\n            self.undo_last_operation()\\n', 'type': 'fix_code'},\n",
       "       {'name': 'is_bored', 'task_description': 'You\\'ll be given a string of words, and your task is to count the number of boredoms. A boredom is a sentence that starts with the word \\'I\\'. Sentences are delimited by \\'.\\', \\'?\\' or \\'!\\'.     For example: \\n >>> is_bored(\"Hello world\") \\n 0 \\n >>> is_bored(\"The sky is blue. The sun is shining. I love this weather\") \\n 1', 'function_signature': 'def is_bored(S):', 'unit_test': 'assert is_bored(\"Hello world\") == 0, \"Test 1\"\\nassert is_bored(\"Is the sky blue?\") == 0, \"Test 2\"\\nassert is_bored(\"I love It !\") == 1, \"Test 3\"\\nassert is_bored(\"bIt\") == 0, \"Test 4\"\\nassert is_bored(\"I feel good today. I will be productive. will kill It\") == 2, \"Test 5\"\\nassert is_bored(\"You and I are going for a walk\") == 0, \"Test 6\"', 'solution': \"def is_bored(S):\\n    import re\\n    sentences = re.split(r'[.?!]\\\\s*', S)\\n    return sum(sentence[0:2] == 'I ' for sentence in sentences)\", 'type': 'logic'}],\n",
       "      dtype=object)"
      ]
     },
     "execution_count": 11,
     "metadata": {},
     "output_type": "execute_result"
    }
   ],
   "source": [
    "all_tasks[tasks_chosen]"
   ]
  },
  {
   "cell_type": "code",
   "execution_count": 14,
   "metadata": {},
   "outputs": [],
   "source": [
    "\n",
    "# Extracting data for the tutorial task\n",
    "tutorial_task = all_tasks[tutorial_task_index]\n",
    "\n",
    "selected_tasks = [all_tasks[i] for i in tasks_chosen]\n",
    "\n",
    "# Creating the dictionary with the specified structure\n",
    "fb_taskgpt = {\n",
    "    'function_signatures': [task['function_signature'] for task in selected_tasks],\n",
    "    'task_descriptions': [task['task_description'] for task in selected_tasks],\n",
    "    'tutorial_function_signature': tutorial_task['function_signature'],\n",
    "    'model': \"gpt-3.5-turbo\",  # As specified, for no model it is None\n",
    "    'tutorial_task_description': tutorial_task['task_description'],\n",
    "    'unit_tests': [task['unit_test'] for task in selected_tasks],\n",
    "    'exp_condition': 'pilotchat',  # Placeholder, as the actual condition is not specified\n",
    "    'max_tokens': 150,  # Placeholder, adjust as necessary\n",
    "    'tutorial_unit_test': tutorial_task['unit_test'],\n",
    "    'id': \"pilot_gpt35_chat\",\n",
    "    'task_completed': 0,\n",
    "    'interface_type': 'chat'\n",
    "}\n",
    "\n",
    "fb_taskllama = {\n",
    "    'function_signatures': [task['function_signature'] for task in selected_tasks],\n",
    "    'task_descriptions': [task['task_description'] for task in selected_tasks],\n",
    "    'tutorial_function_signature': tutorial_task['function_signature'],\n",
    "    'model': \"CodeLlama-7b-Instruct\",  # As specified, for no model it is None\n",
    "    'tutorial_task_description': tutorial_task['task_description'],\n",
    "    'unit_tests': [task['unit_test'] for task in selected_tasks],\n",
    "    'exp_condition': 'pilotchat',  \n",
    "    'max_tokens': 150,  \n",
    "    'tutorial_unit_test': tutorial_task['unit_test'],\n",
    "    'id': \"pilot_llama7_chat\",\n",
    "    'task_completed': 0,\n",
    "    'interface_type': 'chat'\n",
    "\n",
    "}\n",
    "\n",
    "\n",
    "for i in range(10):\n",
    "    doc_ref = db.collection(u'tasks').document(u'pilot_gpt35chat'+str(i))\n",
    "    doc_ref.set(fb_taskgpt)\n",
    "\n",
    "    doc_ref = db.collection(u'tasks').document(u'pilot_llama7chat'+str(i))\n",
    "    doc_ref.set(fb_taskllama)\n",
    "\n",
    "\n"
   ]
  }
 ],
 "metadata": {
  "kernelspec": {
   "display_name": "hussein2",
   "language": "python",
   "name": "python3"
  },
  "language_info": {
   "codemirror_mode": {
    "name": "ipython",
    "version": 3
   },
   "file_extension": ".py",
   "mimetype": "text/x-python",
   "name": "python",
   "nbconvert_exporter": "python",
   "pygments_lexer": "ipython3",
   "version": "3.9.13"
  }
 },
 "nbformat": 4,
 "nbformat_minor": 2
}
