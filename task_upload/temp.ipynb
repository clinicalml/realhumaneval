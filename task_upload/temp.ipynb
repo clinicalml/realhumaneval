{
 "cells": [
  {
   "cell_type": "code",
   "execution_count": 1,
   "metadata": {},
   "outputs": [
    {
     "name": "stdout",
     "output_type": "stream",
     "text": [
      "Collecting together\n",
      "  Downloading together-0.2.10-py3-none-any.whl (43 kB)\n",
      "\u001b[K     |████████████████████████████████| 43 kB 19 kB/s  eta 0:00:01\n",
      "\u001b[?25hCollecting sseclient-py<2.0.0,>=1.7.2\n",
      "  Downloading sseclient_py-1.8.0-py2.py3-none-any.whl (8.8 kB)\n",
      "Collecting tqdm<5.0.0,>=4.66.1\n",
      "  Using cached tqdm-4.66.1-py3-none-any.whl (78 kB)\n",
      "Collecting pydantic<3.0.0,>=2.5.0\n",
      "  Downloading pydantic-2.5.3-py3-none-any.whl (381 kB)\n",
      "\u001b[K     |████████████████████████████████| 381 kB 395 kB/s eta 0:00:01\n",
      "\u001b[?25hCollecting tabulate<0.10.0,>=0.9.0\n",
      "  Downloading tabulate-0.9.0-py3-none-any.whl (35 kB)\n",
      "Collecting typer<0.10.0,>=0.9.0\n",
      "  Downloading typer-0.9.0-py3-none-any.whl (45 kB)\n",
      "\u001b[K     |████████████████████████████████| 45 kB 365 kB/s eta 0:00:01\n",
      "\u001b[?25hCollecting requests<3.0.0,>=2.31.0\n",
      "  Using cached requests-2.31.0-py3-none-any.whl (62 kB)\n",
      "Collecting pydantic-core==2.14.6\n",
      "  Downloading pydantic_core-2.14.6-cp39-cp39-manylinux_2_17_x86_64.manylinux2014_x86_64.whl (2.1 MB)\n",
      "\u001b[K     |████████████████████████████████| 2.1 MB 380 kB/s eta 0:00:01\n",
      "\u001b[?25hCollecting typing-extensions>=4.6.1\n",
      "  Downloading typing_extensions-4.9.0-py3-none-any.whl (32 kB)\n",
      "Collecting annotated-types>=0.4.0\n",
      "  Using cached annotated_types-0.6.0-py3-none-any.whl (12 kB)\n",
      "Requirement already satisfied: certifi>=2017.4.17 in /home/hussein/miniconda3/envs/hussein2/lib/python3.9/site-packages (from requests<3.0.0,>=2.31.0->together) (2023.7.22)\n",
      "Requirement already satisfied: urllib3<3,>=1.21.1 in /home/hussein/miniconda3/envs/hussein2/lib/python3.9/site-packages (from requests<3.0.0,>=2.31.0->together) (1.26.9)\n",
      "Requirement already satisfied: idna<4,>=2.5 in /home/hussein/miniconda3/envs/hussein2/lib/python3.9/site-packages (from requests<3.0.0,>=2.31.0->together) (3.3)\n",
      "Requirement already satisfied: charset-normalizer<4,>=2 in /home/hussein/miniconda3/envs/hussein2/lib/python3.9/site-packages (from requests<3.0.0,>=2.31.0->together) (2.1.0)\n",
      "Requirement already satisfied: click<9.0.0,>=7.1.1 in /home/hussein/miniconda3/envs/hussein2/lib/python3.9/site-packages (from typer<0.10.0,>=0.9.0->together) (8.0.4)\n",
      "Installing collected packages: typing-extensions, pydantic-core, annotated-types, typer, tqdm, tabulate, sseclient-py, requests, pydantic, together\n",
      "  Attempting uninstall: typing-extensions\n",
      "    Found existing installation: typing-extensions 4.3.0\n",
      "    Uninstalling typing-extensions-4.3.0:\n",
      "      Successfully uninstalled typing-extensions-4.3.0\n",
      "  Attempting uninstall: tqdm\n",
      "    Found existing installation: tqdm 4.64.0\n",
      "    Uninstalling tqdm-4.64.0:\n",
      "      Successfully uninstalled tqdm-4.64.0\n",
      "  Attempting uninstall: tabulate\n",
      "    Found existing installation: tabulate 0.8.10\n",
      "    Uninstalling tabulate-0.8.10:\n",
      "      Successfully uninstalled tabulate-0.8.10\n",
      "  Attempting uninstall: requests\n",
      "    Found existing installation: requests 2.28.1\n",
      "    Uninstalling requests-2.28.1:\n",
      "      Successfully uninstalled requests-2.28.1\n",
      "\u001b[31mERROR: pip's dependency resolver does not currently take into account all the packages that are installed. This behaviour is the source of the following dependency conflicts.\n",
      "transformers 4.31.0 requires huggingface-hub<1.0,>=0.14.1, but you have huggingface-hub 0.8.1 which is incompatible.\n",
      "tensorflow 2.9.1 requires protobuf<3.20,>=3.9.2, but you have protobuf 4.25.0 which is incompatible.\n",
      "tensorboard 2.9.1 requires protobuf<3.20,>=3.9.2, but you have protobuf 4.25.0 which is incompatible.\u001b[0m\n",
      "Successfully installed annotated-types-0.6.0 pydantic-2.5.3 pydantic-core-2.14.6 requests-2.31.0 sseclient-py-1.8.0 tabulate-0.9.0 together-0.2.10 tqdm-4.66.1 typer-0.9.0 typing-extensions-4.9.0\n"
     ]
    }
   ],
   "source": [
    "!pip install --upgrade together"
   ]
  },
  {
   "cell_type": "code",
   "execution_count": 1,
   "metadata": {},
   "outputs": [],
   "source": [
    "import together\n"
   ]
  },
  {
   "cell_type": "code",
   "execution_count": null,
   "metadata": {},
   "outputs": [],
   "source": [
    "# see available models\n",
    "model_list = together.Models.list()\n",
    "\n",
    "print(f\"{len(model_list)} models available\")\n",
    "\n",
    "# print the first 10 models on the menu\n",
    "model_names = [model_dict['name'] for model_dict in model_list]\n",
    "model_names[:100]"
   ]
  },
  {
   "cell_type": "code",
   "execution_count": 4,
   "metadata": {},
   "outputs": [
    {
     "name": "stdout",
     "output_type": "stream",
     "text": [
      "{'id': '84732edd8d3f3035-BOS', 'status': 'finished', 'prompt': ['code for fibonacci in Python'], 'model': 'WizardLM/WizardCoder-Python-34B-V1.0', 'model_owner': '', 'num_returns': 1, 'args': {'model': 'WizardLM/WizardCoder-Python-34B-V1.0', 'prompt': 'code for fibonacci in Python', 'top_p': 0.6, 'top_k': 60, 'temperature': 0, 'max_tokens': 50, 'stop': [], 'repetition_penalty': None, 'logprobs': 1, 'safety_model': None}, 'subjobs': [], 'output': {'usage': {'prompt_tokens': 8, 'completion_tokens': 50, 'total_tokens': 58}, 'result_type': 'language-model-inference', 'choices': [{'text': ':\\n\\n\\\\begin{code}\\ndef fibonacci(n):\\n    if n <= 1:\\n        return n\\n    else:\\n        return fibonacci(n-1) + fibonacci(n-', 'finish_reason': 'length', 'tokens': [':', '\\n', '\\n', '\\\\', 'begin', '{', 'code', '}', '\\n', 'def', ' fib', 'on', 'acci', '(', 'n', '):', '\\n', '   ', ' if', ' n', ' <=', ' ', '1', ':', '\\n', '       ', ' return', ' n', '\\n', '   ', ' else', ':', '\\n', '       ', ' return', ' fib', 'on', 'acci', '(', 'n', '-', '1', ')', ' +', ' fib', 'on', 'acci', '(', 'n', '-'], 'token_logprobs': [-1.3964844, -0.30566406, -0.033569336, -0.054595947, -0.0030155182, -0.00016784668, -0.0017271042, 0, -1.1920929e-07, -0.13232422, -0.011161804, -0.2722168, -0.0004813671, -0.059539795, -0.029418945, -0.026916504, -0.0019836426, -0.03186035, -0.48632812, -0.00415802, -0.6699219, -0.0078086853, -0.27075195, -0.00036001205, -0.0068740845, -0.0040016174, -0.0008225441, -0.09429932, -0.0013275146, -0.0018138885, -0.04248047, -3.170967e-05, -0.00013518333, -0.00065660477, -0.034057617, -0.1743164, -0.001868248, -4.529953e-06, -0.00016319752, -7.772446e-05, -0.112854004, -0.0017757416, -0.01512146, -0.00011050701, -0.00042629242, -8.4877014e-05, -1.1920929e-07, -9.953976e-05, -8.940697e-06, -0.00046992302]}]}}\n",
      ":\n",
      "\n",
      "\\begin{code}\n",
      "def fibonacci(n):\n",
      "    if n <= 1:\n",
      "        return n\n",
      "    else:\n",
      "        return fibonacci(n-1) + fibonacci(n-\n"
     ]
    }
   ],
   "source": [
    "output = together.Complete.create(\n",
    "  prompt = \"code for fibonacci in Python\", \n",
    "  model = 'WizardLM/WizardCoder-Python-34B-V1.0', \n",
    "  max_tokens = 50,\n",
    "  temperature = 0.0,\n",
    "  top_k = 60,\n",
    "  top_p = 0.6,\n",
    "  logprobs=1,\n",
    ")\n",
    "print(output)\n",
    "# print generated text\n",
    "print(output['output']['choices'][0]['text'])"
   ]
  },
  {
   "cell_type": "code",
   "execution_count": 7,
   "metadata": {},
   "outputs": [
    {
     "data": {
      "text/plain": [
       "[-1.3964844,\n",
       " -0.30566406,\n",
       " -0.033569336,\n",
       " -0.054595947,\n",
       " -0.0030155182,\n",
       " -0.00016784668,\n",
       " -0.0017271042,\n",
       " 0,\n",
       " -1.1920929e-07,\n",
       " -0.13232422,\n",
       " -0.011161804,\n",
       " -0.2722168,\n",
       " -0.0004813671,\n",
       " -0.059539795,\n",
       " -0.029418945,\n",
       " -0.026916504,\n",
       " -0.0019836426,\n",
       " -0.03186035,\n",
       " -0.48632812,\n",
       " -0.00415802,\n",
       " -0.6699219,\n",
       " -0.0078086853,\n",
       " -0.27075195,\n",
       " -0.00036001205,\n",
       " -0.0068740845,\n",
       " -0.0040016174,\n",
       " -0.0008225441,\n",
       " -0.09429932,\n",
       " -0.0013275146,\n",
       " -0.0018138885,\n",
       " -0.04248047,\n",
       " -3.170967e-05,\n",
       " -0.00013518333,\n",
       " -0.00065660477,\n",
       " -0.034057617,\n",
       " -0.1743164,\n",
       " -0.001868248,\n",
       " -4.529953e-06,\n",
       " -0.00016319752,\n",
       " -7.772446e-05,\n",
       " -0.112854004,\n",
       " -0.0017757416,\n",
       " -0.01512146,\n",
       " -0.00011050701,\n",
       " -0.00042629242,\n",
       " -8.4877014e-05,\n",
       " -1.1920929e-07,\n",
       " -9.953976e-05,\n",
       " -8.940697e-06,\n",
       " -0.00046992302]"
      ]
     },
     "execution_count": 7,
     "metadata": {},
     "output_type": "execute_result"
    }
   ],
   "source": [
    "output['output']['choices'][0]['token_logprobs']"
   ]
  },
  {
   "cell_type": "code",
   "execution_count": 8,
   "metadata": {},
   "outputs": [
    {
     "data": {
      "text/plain": [
       "{'id': '843857f369720d72-MRS',\n",
       " 'status': 'finished',\n",
       " 'prompt': ['code for fibonacci in Python'],\n",
       " 'model': 'togethercomputer/CodeLlama-34b-Instruct',\n",
       " 'model_owner': '',\n",
       " 'num_returns': 1,\n",
       " 'args': {'model': 'togethercomputer/CodeLlama-34b-Instruct',\n",
       "  'prompt': 'code for fibonacci in Python',\n",
       "  'top_p': 0.6,\n",
       "  'top_k': 60,\n",
       "  'temperature': 0,\n",
       "  'max_tokens': 256,\n",
       "  'stop': ['<human>', '\\n\\n'],\n",
       "  'repetition_penalty': None,\n",
       "  'logprobs': None,\n",
       "  'safety_model': None},\n",
       " 'subjobs': [],\n",
       " 'output': {'usage': {'prompt_tokens': 8,\n",
       "   'completion_tokens': 3,\n",
       "   'total_tokens': 11},\n",
       "  'result_type': 'language-model-inference',\n",
       "  'choices': [{'text': '.'}]}}"
      ]
     },
     "execution_count": 8,
     "metadata": {},
     "output_type": "execute_result"
    }
   ],
   "source": [
    "output"
   ]
  }
 ],
 "metadata": {
  "kernelspec": {
   "display_name": "hussein2",
   "language": "python",
   "name": "python3"
  },
  "language_info": {
   "codemirror_mode": {
    "name": "ipython",
    "version": 3
   },
   "file_extension": ".py",
   "mimetype": "text/x-python",
   "name": "python",
   "nbconvert_exporter": "python",
   "pygments_lexer": "ipython3",
   "version": "3.9.13"
  }
 },
 "nbformat": 4,
 "nbformat_minor": 2
}
