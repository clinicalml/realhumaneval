{
 "cells": [
  {
   "cell_type": "code",
   "execution_count": 1,
   "metadata": {},
   "outputs": [
    {
     "name": "stdout",
     "output_type": "stream",
     "text": [
      "Collecting together\n",
      "  Downloading together-0.2.10-py3-none-any.whl (43 kB)\n",
      "\u001b[K     |████████████████████████████████| 43 kB 19 kB/s  eta 0:00:01\n",
      "\u001b[?25hCollecting sseclient-py<2.0.0,>=1.7.2\n",
      "  Downloading sseclient_py-1.8.0-py2.py3-none-any.whl (8.8 kB)\n",
      "Collecting tqdm<5.0.0,>=4.66.1\n",
      "  Using cached tqdm-4.66.1-py3-none-any.whl (78 kB)\n",
      "Collecting pydantic<3.0.0,>=2.5.0\n",
      "  Downloading pydantic-2.5.3-py3-none-any.whl (381 kB)\n",
      "\u001b[K     |████████████████████████████████| 381 kB 395 kB/s eta 0:00:01\n",
      "\u001b[?25hCollecting tabulate<0.10.0,>=0.9.0\n",
      "  Downloading tabulate-0.9.0-py3-none-any.whl (35 kB)\n",
      "Collecting typer<0.10.0,>=0.9.0\n",
      "  Downloading typer-0.9.0-py3-none-any.whl (45 kB)\n",
      "\u001b[K     |████████████████████████████████| 45 kB 365 kB/s eta 0:00:01\n",
      "\u001b[?25hCollecting requests<3.0.0,>=2.31.0\n",
      "  Using cached requests-2.31.0-py3-none-any.whl (62 kB)\n",
      "Collecting pydantic-core==2.14.6\n",
      "  Downloading pydantic_core-2.14.6-cp39-cp39-manylinux_2_17_x86_64.manylinux2014_x86_64.whl (2.1 MB)\n",
      "\u001b[K     |████████████████████████████████| 2.1 MB 380 kB/s eta 0:00:01\n",
      "\u001b[?25hCollecting typing-extensions>=4.6.1\n",
      "  Downloading typing_extensions-4.9.0-py3-none-any.whl (32 kB)\n",
      "Collecting annotated-types>=0.4.0\n",
      "  Using cached annotated_types-0.6.0-py3-none-any.whl (12 kB)\n",
      "Requirement already satisfied: certifi>=2017.4.17 in /home/hussein/miniconda3/envs/hussein2/lib/python3.9/site-packages (from requests<3.0.0,>=2.31.0->together) (2023.7.22)\n",
      "Requirement already satisfied: urllib3<3,>=1.21.1 in /home/hussein/miniconda3/envs/hussein2/lib/python3.9/site-packages (from requests<3.0.0,>=2.31.0->together) (1.26.9)\n",
      "Requirement already satisfied: idna<4,>=2.5 in /home/hussein/miniconda3/envs/hussein2/lib/python3.9/site-packages (from requests<3.0.0,>=2.31.0->together) (3.3)\n",
      "Requirement already satisfied: charset-normalizer<4,>=2 in /home/hussein/miniconda3/envs/hussein2/lib/python3.9/site-packages (from requests<3.0.0,>=2.31.0->together) (2.1.0)\n",
      "Requirement already satisfied: click<9.0.0,>=7.1.1 in /home/hussein/miniconda3/envs/hussein2/lib/python3.9/site-packages (from typer<0.10.0,>=0.9.0->together) (8.0.4)\n",
      "Installing collected packages: typing-extensions, pydantic-core, annotated-types, typer, tqdm, tabulate, sseclient-py, requests, pydantic, together\n",
      "  Attempting uninstall: typing-extensions\n",
      "    Found existing installation: typing-extensions 4.3.0\n",
      "    Uninstalling typing-extensions-4.3.0:\n",
      "      Successfully uninstalled typing-extensions-4.3.0\n",
      "  Attempting uninstall: tqdm\n",
      "    Found existing installation: tqdm 4.64.0\n",
      "    Uninstalling tqdm-4.64.0:\n",
      "      Successfully uninstalled tqdm-4.64.0\n",
      "  Attempting uninstall: tabulate\n",
      "    Found existing installation: tabulate 0.8.10\n",
      "    Uninstalling tabulate-0.8.10:\n",
      "      Successfully uninstalled tabulate-0.8.10\n",
      "  Attempting uninstall: requests\n",
      "    Found existing installation: requests 2.28.1\n",
      "    Uninstalling requests-2.28.1:\n",
      "      Successfully uninstalled requests-2.28.1\n",
      "\u001b[31mERROR: pip's dependency resolver does not currently take into account all the packages that are installed. This behaviour is the source of the following dependency conflicts.\n",
      "transformers 4.31.0 requires huggingface-hub<1.0,>=0.14.1, but you have huggingface-hub 0.8.1 which is incompatible.\n",
      "tensorflow 2.9.1 requires protobuf<3.20,>=3.9.2, but you have protobuf 4.25.0 which is incompatible.\n",
      "tensorboard 2.9.1 requires protobuf<3.20,>=3.9.2, but you have protobuf 4.25.0 which is incompatible.\u001b[0m\n",
      "Successfully installed annotated-types-0.6.0 pydantic-2.5.3 pydantic-core-2.14.6 requests-2.31.0 sseclient-py-1.8.0 tabulate-0.9.0 together-0.2.10 tqdm-4.66.1 typer-0.9.0 typing-extensions-4.9.0\n"
     ]
    }
   ],
   "source": [
    "!pip install --upgrade together"
   ]
  },
  {
   "cell_type": "code",
   "execution_count": null,
   "metadata": {},
   "outputs": [],
   "source": [
    "import together\n",
    "together.api_key = \"xxxxx\"\n"
   ]
  },
  {
   "cell_type": "code",
   "execution_count": null,
   "metadata": {},
   "outputs": [],
   "source": [
    "# see available models\n",
    "model_list = together.Models.list()\n",
    "\n",
    "print(f\"{len(model_list)} models available\")\n",
    "\n",
    "# print the first 10 models on the menu\n",
    "model_names = [model_dict['name'] for model_dict in model_list]\n",
    "model_names[:10]"
   ]
  },
  {
   "cell_type": "code",
   "execution_count": null,
   "metadata": {},
   "outputs": [],
   "source": [
    "output = together.Complete.create(\n",
    "  prompt = \"<human>: What are Isaac Asimov's Three Laws of Robotics?\\n<bot>:\", \n",
    "  model = \"togethercomputer/RedPajama-INCITE-7B-Instruct\", \n",
    "  max_tokens = 256,\n",
    "  temperature = 0.8,\n",
    "  top_k = 60,\n",
    "  top_p = 0.6,\n",
    "  repetition_penalty = 1.1,\n",
    "  stop = ['<human>', '\\n\\n']\n",
    ")\n",
    "\n",
    "# print generated text\n",
    "print(output['output']['choices'][0]['text'])"
   ]
  }
 ],
 "metadata": {
  "kernelspec": {
   "display_name": "hussein2",
   "language": "python",
   "name": "python3"
  },
  "language_info": {
   "codemirror_mode": {
    "name": "ipython",
    "version": 3
   },
   "file_extension": ".py",
   "mimetype": "text/x-python",
   "name": "python",
   "nbconvert_exporter": "python",
   "pygments_lexer": "ipython3",
   "version": "3.9.13"
  }
 },
 "nbformat": 4,
 "nbformat_minor": 2
}
